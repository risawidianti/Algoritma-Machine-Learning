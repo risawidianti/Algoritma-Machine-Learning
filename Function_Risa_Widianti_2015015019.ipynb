{
  "nbformat": 4,
  "nbformat_minor": 0,
  "metadata": {
    "colab": {
      "name": "Function_Risa Widianti_2015015019",
      "provenance": [],
      "collapsed_sections": []
    },
    "kernelspec": {
      "name": "python3",
      "display_name": "Python 3"
    },
    "language_info": {
      "name": "python"
    }
  },
  "cells": [
    {
      "cell_type": "markdown",
      "metadata": {
        "id": "L5m4BxppNomy"
      },
      "source": [
        "#Function\n",
        "Function adalah sebuah blok statement yang hanya akan dijalankan saat ia dipanggil."
      ]
    },
    {
      "cell_type": "code",
      "metadata": {
        "id": "UyTbRBZ2rFIN",
        "colab": {
          "base_uri": "https://localhost:8080/"
        },
        "outputId": "3fc5f3f7-1e5e-472e-a589-c18a296a7b22"
      },
      "source": [
        "genap = [2,4,6,8,10]\n",
        "len(genap)"
      ],
      "execution_count": null,
      "outputs": [
        {
          "output_type": "execute_result",
          "data": {
            "text/plain": [
              "5"
            ]
          },
          "metadata": {},
          "execution_count": 1
        }
      ]
    },
    {
      "cell_type": "code",
      "metadata": {
        "colab": {
          "base_uri": "https://localhost:8080/"
        },
        "id": "XL4kqpzFOLsQ",
        "outputId": "f604bdb1-5f62-46c1-cf87-a485a0cefebb"
      },
      "source": [
        "print('Assalamualaikum Dunia')"
      ],
      "execution_count": null,
      "outputs": [
        {
          "output_type": "stream",
          "name": "stdout",
          "text": [
            "Assalamualaikum Dunia\n"
          ]
        }
      ]
    },
    {
      "cell_type": "markdown",
      "metadata": {
        "id": "x1yhMy0uOVVL"
      },
      "source": [
        "##Keyword & Argument\n",
        "**Keyword/Parameter** : Variable yang digunakan dalam deklarasi fungsi\n",
        "\n",
        "**Argument** : Nilai yang diberikan saat pemanggilan fungsi"
      ]
    },
    {
      "cell_type": "code",
      "metadata": {
        "colab": {
          "base_uri": "https://localhost:8080/"
        },
        "id": "zXubi7KBOR06",
        "outputId": "d09a9f28-bcce-43a9-ec51-73a76ddacd6c"
      },
      "source": [
        "# sep = keyword/argument\n",
        "# '_' = argument\n",
        "\n",
        "print('kata1','kata2', sep='/')"
      ],
      "execution_count": null,
      "outputs": [
        {
          "output_type": "stream",
          "name": "stdout",
          "text": [
            "kata1/kata2\n"
          ]
        }
      ]
    },
    {
      "cell_type": "markdown",
      "metadata": {
        "id": "4Y-OwU6HQD40"
      },
      "source": [
        "##Membuat Fungsi\n",
        "Python mengizinkan untuk mendeklarasikan fungsi dalam kode yang dituliskan yang dikenal dengan **user defined function**\n",
        "\n",
        "\n",
        "\n",
        "```\n",
        "def nama_fungsi(argument):\n",
        "  pernyataan_1\n",
        "  ...\n",
        "  pernyataan_n\n",
        "  return nilai keluaran\n",
        "```\n",
        "\n"
      ]
    },
    {
      "cell_type": "code",
      "metadata": {
        "id": "OlItxMgtQUne"
      },
      "source": [
        "#Pendefinisian fungsi_kuadrat\n",
        "def fungsi_kuadrat(x):\n",
        "  hasil = x**2\n",
        "  return hasil\n"
      ],
      "execution_count": null,
      "outputs": []
    },
    {
      "cell_type": "code",
      "metadata": {
        "id": "4uWpYt3hQ6O7"
      },
      "source": [
        "#Alternatif Pendefinisian fungsi_kuadrat\n",
        "def fungsi_kuadrat(x):\n",
        "  return x**2"
      ],
      "execution_count": null,
      "outputs": []
    },
    {
      "cell_type": "code",
      "metadata": {
        "colab": {
          "base_uri": "https://localhost:8080/"
        },
        "id": "1ouWt7ReRIfe",
        "outputId": "9d2917e7-d21a-40dd-ebde-e60b7b1d15ed"
      },
      "source": [
        "#Pemanggilan fungsi_kuadrat\n",
        "fungsi_kuadrat(6)"
      ],
      "execution_count": null,
      "outputs": [
        {
          "output_type": "execute_result",
          "data": {
            "text/plain": [
              "36"
            ]
          },
          "metadata": {},
          "execution_count": 6
        }
      ]
    },
    {
      "cell_type": "markdown",
      "metadata": {
        "id": "umFnjQ8KWMk2"
      },
      "source": [
        "##Positional Argument dan Keyword\n",
        "Kita bisa menyatakan sebagai positional argument atau keyword. Beberapa manfaat argument kata kunci dapat berupa :\n",
        "\n",
        "* Kita dapat menyebut argumen dengan nama mereka untuk memperjelas apa yang mereka wakili\n",
        "* Kita dapat mengatur ulang argumen dengan cara yang membuatnya paling mudah dibaca"
      ]
    },
    {
      "cell_type": "code",
      "metadata": {
        "id": "_r4gHEkXROjt"
      },
      "source": [
        "#Mendefinisikan fungsi dengan beberapa argumen\n",
        "def tampilkan_kata(a,b,c):\n",
        "  print(a,b,c)"
      ],
      "execution_count": null,
      "outputs": []
    },
    {
      "cell_type": "code",
      "metadata": {
        "colab": {
          "base_uri": "https://localhost:8080/"
        },
        "id": "l26b_221Xk-O",
        "outputId": "383f370c-2993-4aeb-82a4-ad692812384f"
      },
      "source": [
        "#Positional Arguments\n",
        "tampilkan_kata('aku','kau','dia')"
      ],
      "execution_count": null,
      "outputs": [
        {
          "output_type": "stream",
          "name": "stdout",
          "text": [
            "aku kau dia\n"
          ]
        }
      ]
    },
    {
      "cell_type": "code",
      "metadata": {
        "colab": {
          "base_uri": "https://localhost:8080/"
        },
        "id": "nToXJihoX7Ug",
        "outputId": "be7d90d3-43f0-49f6-8065-7364fa12e60d"
      },
      "source": [
        "tampilkan_kata('kau','aku','dia')"
      ],
      "execution_count": null,
      "outputs": [
        {
          "output_type": "stream",
          "name": "stdout",
          "text": [
            "kau aku dia\n"
          ]
        }
      ]
    },
    {
      "cell_type": "code",
      "metadata": {
        "colab": {
          "base_uri": "https://localhost:8080/"
        },
        "id": "g6fk_N8eYMu7",
        "outputId": "b76a10de-a267-498c-edc2-32f2734c7a92"
      },
      "source": [
        "#argumen berdasarkan keyword-nya\n",
        "tampilkan_kata(a='aku', b='kau', c='dia')\n",
        "tampilkan_kata(c='dia', b='kau', a='aku')\n",
        "\n",
        "#Catatan : Jika sudah diberi kunci maka urutan tidak menjadi penting"
      ],
      "execution_count": null,
      "outputs": [
        {
          "output_type": "stream",
          "name": "stdout",
          "text": [
            "aku kau dia\n",
            "aku kau dia\n"
          ]
        }
      ]
    },
    {
      "cell_type": "code",
      "metadata": {
        "colab": {
          "base_uri": "https://localhost:8080/"
        },
        "id": "qaDhhr4tYyZF",
        "outputId": "8c86d116-6ca9-4d3e-9a16-b55583502d9c"
      },
      "source": [
        "#Campuran antara argumen posisi dan argumen kata kunci\n",
        "tampilkan_kata('aku', b='kau', c='dia')"
      ],
      "execution_count": null,
      "outputs": [
        {
          "output_type": "stream",
          "name": "stdout",
          "text": [
            "aku kau dia\n"
          ]
        }
      ]
    },
    {
      "cell_type": "markdown",
      "metadata": {
        "id": "uBGVVpMmarH2"
      },
      "source": [
        "Ini tidak diijinkan:\n",
        "* Positional argument setelah keyword argument\n",
        "    ```\n",
        "    tampilkan_kata('aku', b='kau', 'dia')\n",
        "    ```\n",
        "* Terdapat dua nilai untuk satu keyword argument yang sama\n",
        "    ```\n",
        "    tampilkan_kata(1, b=2, a=3)\n",
        "    ```\n",
        "\n"
      ]
    },
    {
      "cell_type": "markdown",
      "metadata": {
        "id": "DIdb6CdDcCjJ"
      },
      "source": [
        "##Argument Default\n",
        "Fungsi dapat memiliki argumen default dengan nilai yang telah ditentukan sebelumnya. Argumen ini dapat ditinggalkan dan nilai default kemudian diteruskan ke fungsi, atau argumen dapat dirubah dengan nilai yang berbeda. Perhatikan bahwa argumen default harus ditentukan sebagai parameter terakhir dalam suatu fungsi."
      ]
    },
    {
      "cell_type": "code",
      "metadata": {
        "colab": {
          "base_uri": "https://localhost:8080/"
        },
        "id": "CGsp6Qt3aF1w",
        "outputId": "cff265f7-c790-4516-fb01-1df47afb5066"
      },
      "source": [
        "#Argumen default\n",
        "def tampilkan_kata(a,b,c,d='sahabat'):\n",
        "  print(a,b,c,d)\n",
        "\n",
        "tampilkan_kata('aku','kau','dia')\n",
        "tampilkan_kata('aku',b='kau',c='dia',d='teman')\n",
        "\n",
        "#catatan : Argumen default harus diletakkan terakhir"
      ],
      "execution_count": null,
      "outputs": [
        {
          "output_type": "stream",
          "name": "stdout",
          "text": [
            "aku kau dia sahabat\n",
            "aku kau dia teman\n"
          ]
        }
      ]
    },
    {
      "cell_type": "markdown",
      "metadata": {
        "id": "WdNn0rVtdv3I"
      },
      "source": [
        "##Contoh User Defined Function"
      ]
    },
    {
      "cell_type": "code",
      "metadata": {
        "colab": {
          "base_uri": "https://localhost:8080/"
        },
        "id": "SPqmI30sdd0Q",
        "outputId": "a82d907c-9585-4576-adb7-dc431ee1a2d5"
      },
      "source": [
        "#Contoh 1 : Penjumlahan 2 bilangan\n",
        "\n",
        "def penjumlahan(x, y): # input\n",
        "  a=x+y                # proses\n",
        "  return a             # output\n",
        "\n",
        "penjumlahan(1, 2)      # Pemanggilan fungsi"
      ],
      "execution_count": null,
      "outputs": [
        {
          "output_type": "execute_result",
          "data": {
            "text/plain": [
              "3"
            ]
          },
          "metadata": {},
          "execution_count": 13
        }
      ]
    },
    {
      "cell_type": "code",
      "metadata": {
        "colab": {
          "base_uri": "https://localhost:8080/"
        },
        "id": "VOIUCO_0enEK",
        "outputId": "080c2e73-799a-4275-d868-ad35cdd7dd6e"
      },
      "source": [
        "#Contoh 2 : Penjumlahan yang memungkinkan untuk tiga bilangan\n",
        "\n",
        "def penjumlahan(x,y,z=None):\n",
        "  if (z==None):\n",
        "    return x+y\n",
        "  else:\n",
        "    return x+y+z\n",
        "\n",
        "print(penjumlahan(1,2))\n",
        "print(penjumlahan(1,2,3))"
      ],
      "execution_count": null,
      "outputs": [
        {
          "output_type": "stream",
          "name": "stdout",
          "text": [
            "3\n",
            "6\n"
          ]
        }
      ]
    },
    {
      "cell_type": "code",
      "metadata": {
        "colab": {
          "base_uri": "https://localhost:8080/"
        },
        "id": "shZLnbwqfSw8",
        "outputId": "b9dd068e-76b3-4f59-a711-59996026c535"
      },
      "source": [
        "#Contoh 3  : Menghitung luas dan keliling persegi\n",
        "\n",
        "def luas_dan_keliling_presegi(s):\n",
        "  luas = s**2\n",
        "  keliling = 4*s\n",
        "  return luas, keliling\n",
        "\n",
        "luas, keliling = luas_dan_keliling_presegi(2)\n",
        "print('luas:', luas)\n",
        "print('keliling:', keliling)"
      ],
      "execution_count": null,
      "outputs": [
        {
          "output_type": "stream",
          "name": "stdout",
          "text": [
            "luas: 4\n",
            "keliling: 8\n"
          ]
        }
      ]
    },
    {
      "cell_type": "markdown",
      "metadata": {
        "id": "ldFhL881g11k"
      },
      "source": [
        "##Latihan"
      ]
    },
    {
      "cell_type": "markdown",
      "metadata": {
        "id": "XVQDyJ5j6dZb"
      },
      "source": [
        "###1. Buatlah sebuah fungsi untuk menghitung luas dan keliling lingkaran dengan input jari-jari"
      ]
    },
    {
      "cell_type": "code",
      "metadata": {
        "colab": {
          "base_uri": "https://localhost:8080/"
        },
        "id": "g_5mAcx7gnEy",
        "outputId": "c133a72a-87e3-49a4-817e-377ec0cb28e7"
      },
      "source": [
        "def luas_dan_keliling_lingkaran(r):\n",
        "  luas = 3.14*r**2\n",
        "  keliling = 2*3.14*r\n",
        "  return luas\n",
        "  return keliling\n",
        "\n",
        "luas = luas_dan_keliling_lingkaran(100)\n",
        "keliling = luas_dan_keliling_lingkaran(20)\n",
        "print('luas:', luas)\n",
        "print('keliling:', keliling)"
      ],
      "execution_count": null,
      "outputs": [
        {
          "output_type": "stream",
          "name": "stdout",
          "text": [
            "luas: 31400.0\n",
            "keliling: 1256.0\n"
          ]
        }
      ]
    },
    {
      "cell_type": "markdown",
      "metadata": {
        "id": "eSUMpWT_6qh2"
      },
      "source": [
        "###2. Buatlah sebuah fungsi untuk menggabungkan dua kata dalam bentuk string bebas menjadi satu kata tanpa spasi dengan huruf kecil"
      ]
    },
    {
      "cell_type": "code",
      "metadata": {
        "colab": {
          "base_uri": "https://localhost:8080/"
        },
        "id": "9HRpXfDnjVHb",
        "outputId": "1e3160a6-f65d-4a23-abe1-b5cac1646070"
      },
      "source": [
        "print('tangkuban','perahu',sep='')"
      ],
      "execution_count": null,
      "outputs": [
        {
          "output_type": "stream",
          "name": "stdout",
          "text": [
            "tangkubanperahu\n"
          ]
        }
      ]
    },
    {
      "cell_type": "markdown",
      "metadata": {
        "id": "3zYhMcOD6ywg"
      },
      "source": [
        "### 3.Buatlah sebuah fungsi awal_akhir(list_input) untuk menukar elemen pertama pada sebuah list dengan elemen terakhir pada list yang sama"
      ]
    },
    {
      "cell_type": "code",
      "metadata": {
        "colab": {
          "base_uri": "https://localhost:8080/"
        },
        "id": "ol_3kawun6O2",
        "outputId": "518a272b-a947-42a9-827d-1367a6a6189d"
      },
      "source": [
        "def awal_akhir(a,b,c,d):\n",
        "  return [d,b,c,a]\n",
        "\n",
        "awal_akhir(1,2,3,4)"
      ],
      "execution_count": null,
      "outputs": [
        {
          "output_type": "execute_result",
          "data": {
            "text/plain": [
              "[4, 2, 3, 1]"
            ]
          },
          "metadata": {},
          "execution_count": 18
        }
      ]
    }
  ]
}