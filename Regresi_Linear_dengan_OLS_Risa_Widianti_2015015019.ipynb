{
  "nbformat": 4,
  "nbformat_minor": 0,
  "metadata": {
    "colab": {
      "name": "Regresi Linear dengan OLS_Risa Widianti_2015015019",
      "provenance": [],
      "collapsed_sections": []
    },
    "kernelspec": {
      "name": "python3",
      "display_name": "Python 3"
    },
    "language_info": {
      "name": "python"
    }
  },
  "cells": [
    {
      "cell_type": "markdown",
      "metadata": {
        "id": "XkDnzYl47d4I"
      },
      "source": [
        "## **Pembuka** \n",
        "Assalamu'alaikum warahmatullahi wabarakatuh. Puji syukur kehadirat Allah Subhana Wata'ala atas limpahan Rahmat dan HidayahNya kepada kita semua. Sholawat serta salam senantiasa tercurah limpahkan kepada baginda Muhammad Rasulullah Salallahualaihiwassalam.\n",
        "\n",
        "Halo para **Pejuang Data**. Selamat berjumpa di pertemuan ketiga Program Training **Algoritma Machine** Learning Kelas Mahir. \n",
        "\n",
        "Pada pertemuan ini kamu akan belajar: \n",
        "* Model Regresi Linear Sederhana \n",
        "* Ordinary Least Mean Square \n",
        "* Contoh Perhitungan Manual Regresi Linear dengan OLS \n",
        "* Regresi Linear Python From Scratch \n"
      ]
    },
    {
      "cell_type": "markdown",
      "metadata": {
        "id": "BDxSAww35a3P"
      },
      "source": [
        "## **Model Regresi Linear Sederhana**"
      ]
    },
    {
      "cell_type": "markdown",
      "metadata": {
        "id": "9l3_maj2v1Gf"
      },
      "source": [
        "\n",
        "Regresi Linear adalah metode untuk mendefinisikan hubungan linear antara variabel dependen **Y** dan variabel independen **X**. Secara sederhana dapat dituliskan dalam formula berikut:\n",
        "\n",
        "<img src=\"https://latex.codecogs.com/gif.latex?\\dpi{100}&space;Y_i&space;=&space;b_0&space;&plus;&space;b_1&space;X_i&space;&plus;&space;\\epsilon_i\" title=\"Y_i = b_0 + b_1 X_i + \\epsilon_i\" />\n",
        "\n",
        "Yang mana <img src=\"https://latex.codecogs.com/gif.latex?\\dpi{100}&space;Y_i\" title=\"Y_i\" /> adalah variabel dependen, <img src=\"https://latex.codecogs.com/gif.latex?\\dpi{100}&space;X_i\" title=\"X_i\" /> adalah variabel independen, <img src=\"https://latex.codecogs.com/gif.latex?\\dpi{100}&space;\\epsilon\" title=\"\\epsilon\" /> adalah kesalahan acak, <img src=\"https://latex.codecogs.com/gif.latex?\\dpi{100}&space;b_0\" title=\"b_0\" /> disebut sebagai intercept dan <img src=\"https://latex.codecogs.com/gif.latex?\\dpi{100}&space;b_1\" title=\"b_1\" /> disebut sebagai koefisien regresi yang dapat diestimasi berdasarkan data <img src=\"https://latex.codecogs.com/gif.latex?\\dpi{100}&space;X_i\" title=\"X_i\" /> yang diberikan. Koefisien <img src=\"https://latex.codecogs.com/gif.latex?\\dpi{100}&space;b_0\" title=\"b_0\" /> juga biasa disebut sebagai bias. Tujuan utama dari model ini adalah untuk\n",
        "mengambarkan garis linear dengan kesesuaian terbaik(*best fit*) antara X dan Y yang mengestimasi hubungan\n",
        "antara X dan Y. \n",
        "\n",
        "Lalu bagaimana untuk mengestimasi koefisien tersebut? Salah satu pendekatan yang dapat dilakukan adalah menggunakan metode **Ordinary Least Mean Square Method**. Pada python notebook ini, kita akan mengimplementasikan metode Ordinary Least Mean Square Method."
      ]
    },
    {
      "cell_type": "markdown",
      "metadata": {
        "id": "QCeC99bMNxC7"
      },
      "source": [
        "## **Ordinary Least Mean Square**\n",
        "\n",
        "Sebelumnya kita telah membahas tentang estimasi hubungan antara X dan Y pada sebuah garis. Misalnya, kita sediakan input dan output sampel, kemudian kita memplot titik titik data ini pada grafik 2 dimensi, maka akan dihasilkan grafik seperti di bawah ini:\n",
        "\n",
        "![Data Regresi.png](data:image/png;base64,iVBORw0KGgoAAAANSUhEUgAAAYsAAAEGCAYAAACUzrmNAAAAOXRFWHRTb2Z0d2FyZQBNYXRwbG90bGliIHZlcnNpb24zLjMuMiwgaHR0cHM6Ly9tYXRwbG90bGliLm9yZy8vihELAAAACXBIWXMAAAsTAAALEwEAmpwYAAA6IElEQVR4nO2deXwV1fn/3ychBAKyBVBKIMECWjZBAoJWilrFFWmVb5VYtVIQkG+xCq2UumBL61YX3NGiaCJ8XapYRIs7VlEMChgRBWQXBeEnshuS5/fH3As3NzNz5+7b83695pV7z8ydOXe4nM+cZztGRFAURVEUN3KS3QFFURQl9VGxUBRFUUKiYqEoiqKERMVCURRFCYmKhaIoihKSBsnuQLxo3bq1lJSUJLsbiqIoacWSJUu+FZE2we0ZKxYlJSVUVlYmuxuKoihphTFmvV27mqEURVGUkKhYKIqiKCFRsVAURVFCkrE+Czuqq6vZtGkT+/fvT3ZXFBcaNWpEUVEReXl5ye6Koig+skosNm3axBFHHEFJSQnGmGR3R7FBRNi+fTubNm2iU6dOye6Ooig+ssoMtX//fgoLC1UoUhhjDIWFhTr7U7KaigooKYGcHOtvRUWye5RlMwtAhSIN0H8jJZupqIDRo2HvXuv9+vXWe4CysuT1K6tmFoqiKKnOlCmHhcLP3r1WezJRsUgwubm59O7dmx49enDeeefx3XffJaUfZ599tu21S0pK+Pbbb+u0vfjii9xyyy0J6pmiZDcbNoTXnihULBJM48aNWbp0KVVVVbRq1Yr7778/6nPW1NSE/Zn58+fTokULT8cOHTqU6667LuxrhEMk30FRMpGOHcNrTxQqFklk4MCBbN68GYA1a9Zw5pln0rdvX04++WRWrlx5qH3AgAH069ePG264gaZNmwLw1ltvccoppzBixAh69uxJTU0NkyZNol+/fvTq1YuHH34YgC1btjBo0KBDs5l33nkHsJ9BOPH4448zfvx4AC6//HJ+97vfceKJJ3L00Ufz7LPPHjru9ttvP3T9G2+88VD7sGHD6Nu3L927d2fGjBmH2ps2bcoNN9zACSecwKJFiyK9jYoSklR0GDsxbRoUFNRtKyiw2pNJ1jm4D3H11bB0aWzP2bs33H23p0Nramp4/fXXGTlyJACjR4/moYceokuXLnzwwQeMGzeON954gwkTJjBhwgQuvvhiHnrooTrnWLx4MVVVVXTq1IkZM2bQvHlzPvzwQw4cOMBJJ53EGWecwb/+9S+GDBnClClTqKmpYW+wMTQCtmzZwn//+19WrlzJ0KFDufDCC1mwYAGrVq1i8eLFiAhDhw5l4cKFDBo0iJkzZ9KqVSv27dtHv379uOCCCygsLGTPnj306NGDm2++Oeo+KYoTqeowdsLfpylTLNNTx46WUCS7r9krFkli37599O7dm3Xr1tG3b19OP/10du/ezXvvvcfw4cMPHXfgwAEAFi1axAsvvADAiBEjmDhx4qFj+vfvfygXYcGCBSxfvvzQk/7OnTtZtWoV/fr144orrqC6upphw4bRu3fvqL/DsGHDyMnJoVu3bnzzzTeHrr9gwQL69OkDwO7du1m1ahWDBg1i+vTpPP/88wBs3LiRVatWUVhYSG5uLhdccEHU/VEUN9wcxskegJ0oK0u9vmWvWHicAcQav89i586dnHvuudx///1cfvnltGjRgqVhznSaNGly6LWIcO+99zJkyJB6xy1cuJCXXnqJX//610yaNIlLL700qu+Qn59f57r+v5MnT+bKK6+sc+xbb73Fa6+9xqJFiygoKGDw4MGHcigaNWpEbm5uVH1RlFCkqsM43VCfRZJo3rw506dP54477qBx48Z06tSJZ555BrAG3mXLlgEwYMAAnnvuOQDmzJnjeL4hQ4bw4IMPUl1dDcAXX3zBnj17WL9+PW3btmXUqFGMHDmSjz76KC7fZ8iQIcycOZPdu3cDsHnzZrZu3crOnTtp2bIlBQUFrFy5kvfffz8u11cUJ1LVYZxuxE0sjDEzjTFbjTFVQe3/a4z53BjzqTHmtoD2ycaY1b59QwLa+xpjPvHtm24yKGOrT58+HHfcccyZM4eKigr++c9/ctxxx9G9e3fmzp0LwN13382dd95J//792bJlC82bN7c9129/+1u6devG8ccfT48ePbjyyis5ePAgb731Fr1796ZPnz4899xzTJgwIWS/evXqRVFREUVFRVxzzTWevssZZ5zBiBEjGDhwID179uTCCy9k165dnHnmmRw8eJBevXpx/fXXM2DAAO83SFFiQKo6jNMOEYnLBgwCjgeqAtpOAV4D8n3v2/r+dgOWAflAJ2ANkOvbtxgYCBjgZeAsL9fv27evBLNixYp6banOnj17pLa2VkREZs+eLUOHDk1yjxJDOv5bKalLeblIcbGIMdbf8vJk9yiObNwY1ceBSrEZU+PmsxCRhcaYkqDmscAtInLAd8xWX/v5wBxf+1pjzGqgvzFmHdBMRBYBGGOeAIb5RCMrWLJkCePHj0dEaNGiBTNnzkx2lxQl7UhFh3HMWbECJk6Ed9+F1auhTb2VUaMi0T6LrsDJxpgPjDFvG2P6+drbAxsDjtvka2vvex3cbosxZrQxptIYU7lt27YYdz05nHzyySxbtozly5ezcOFCOnfunOwuKYpn0im/IW3ZuhXGjoVeveC99+D666FZs5hfJtFi0QBoCQwAJgFP+3wQdn4IcWm3RURmiEipiJS2ibGqKkqqkeoDsT+/Yf16EDmc35Bq/Uxb9u+HW26Bzp3h0Udh3DhrRjFxIgRELMaKRIvFJuBfPtPYYqAWaO1r7xBwXBHwla+9yKZdUbKadBiIU7UgXtojArNnw7HHwuTJcMopUFUF06dD69Zxu2yixeIF4FQAY0xXoCHwLfAicJExJt8Y0wnoAiwWkS3ALmPMAN8M5FJgboL7rCgpRzoMxJrfEAfeew8GDoQRI6BlS3jjDZg7F445Ju6Xjmfo7GxgEXCMMWaTMWYkMBM42hdOOwe4zDfL+BR4GlgBvAJcJSL+ynJjgUeB1VhRUlnj3FYUJ9JhINb8hhjy5ZcwfDicdBJs3AiPPQaVldasIkHEMxrqYoddlzgcPw2oF/ksIpVAjxh2Lank5ubSs2dPqquradCgAZdddhlXX301OTnOur1u3Tree+89RowYkcCeKqlMx46W6cmuPVWYNq1uTSbQ/Iaw+e47+Otf4d57oUEDmDoVrr0WAqo3JArN4E4w/nIfn376Ka+++irz589n6tSprp9Zt24dTz31VIJ6qCQbL47rdEg0KyuDGTOguBiMsf7OmJEFIayxoLraEojOneHOO+GSS2DVKrjhhqQIBRC/pLxkb7FIyotHIk+TJk3qvF+zZo20atVKamtrZe3atfLTn/5U+vTpI3369JF3331XREROOOEEadasmRx33HFy5513Oh6XSWRrUl55uUhBgYjlxbS2ggL7315WJZplC7W1InPninTtav3jn3aayMcfJ7QLOCTlJX1Qj9cWrViE8582HILFQkSkRYsW8vXXX8uePXtk3759IiLyxRdfiP87vPnmm3LOOeccOt7puEwiW8WiuLjub86/FRcnu2dK3FmyRGTwYOsf/NhjRebNs8QjwTiJhZqhHEhktIn17wPV1dWMGjWKnj17Mnz4cFasWGF7vNfjlPQjHRzXXkj1HJCUYvNmuPxyKC21QmDvvx+WL4dzzrHsdylC9pYoD0Gi/tN++eWX5Obm0rZtW6ZOncqRRx7JsmXLqK2tpVGjRrafueuuuzwdp6Qf6eC4DkW6LTaUNHbvhttvt7aaGpg0Cf70J3AoFppsdGbhQCLC/rZt28aYMWMYP348xhh27txJu3btyMnJ4cknnzy0LvURRxzBrl27Dn3O6Tgl/UkHx3Uo0iEHJKnU1MDMmdC1K9x8MwwdCitXwq23pqxQgIqFI/H6T+tfKa979+78/Oc/54wzzji0XvW4ceOYNWsWAwYM4Isvvji0uFGvXr1o0KABxx13HHfddZfjcUr6kwkRRJliSosLr78OffvCyJHWP+5778GcOeBb8TKlsXNkZMKWqtFQijey1cGdCaiT3obPPhM591zrRpSUiMyZkxTntRdQB3f4lJXBunVQW2v9TaenO0VJFplgSosZ27bBVVdBjx6wcCHcdht89hn86lcp5bz2goqFoigxJRNMaVGzf78lDJ07w8MPw5gxVkXYSZMgTQNSsi4aSkTIoJVZMxIRxyr0SpqQFYsN2SECTz8N111nmSPOPdcSjZ/8JNk9i5qsmlk0atSI7du362CUwogI27dv13BgJf1YtAhOPBEuusiKanrtNfj3vzNCKCDLZhZFRUVs2rSJTFlFL1Np1KgRRUVFoQ9UlDhQUWGF+W7YYIXKT5sWYpa0dq01k3j6aWjXzgqLvfRSyM1NWJ8TQVaJRV5eHp3SIURNUZR6hD2IR3gNzwmFO3danbjnHqsi7I03WqvUNW0a206lCFllhlIUJblEWgYkUSsDekoorK62SnJ07gx33GEtRPTFF3DTTRkrFKBioShJJ1vqKEUz4CcqK9w1oVAE5s2DXr1g/Hjo2ROWLLEWImrfPrYdSUFULBQliaTDWtqxIpoBP1FZ4U7lfIYctQxOPx3OO89KvJo718rG7tMnth1IYVQsFCWJZFMdpWgG/EQt0RqcUNiOr5iVewXzv+4DS5daCxJVVVn1nLIsBF/FQlGSSDbVUYpmwI82K9yrqc+fUHhshz3cyFRWmy6UmQrMtddaSXXjx0NenreLZhgqFoqSRBL1xJwKRDvgN258+HVhofes8HHj4Ne/9mjqq62lrPpxPqvpyk3cRMGF55D7+WdWGfEWLbx1NEOJm1gYY2YaY7YaY6oC2m4yxmw2xiz1bWcH7JtsjFltjPncGDMkoL2vMeYT377pRtOvlQwim+ooRVoGxO/X2b79cNu+fd6uWVEBDz1kiUQgtqa+N96wKsL+5jfQoQP8979W7sTRR3u7WKZjV10wFhswCDgeqApouwmYaHNsN2AZkA90AtYAub59i4GBgAFeBs7ycv1MXGpUyUy0urE70VSxdfosWPdbRERWrhQ577zDJ509O2UrwiYCHKrOxi0pT0QWGmNKPB5+PjBHRA4Aa40xq4H+xph1QDMRWQRgjHkCGIYlGoqSEWRtHSWPROPXcTvmuPbfwv9OtaYejRvDLbfAhAlpW+gv3iTDZzHeGLPcZ6Zq6WtrD2wMOGaTr62973Vwuy3GmNHGmEpjTKWW9FCU8EnFnI9o/Dp2xzTkABO5gw92dIYHH4RRoyzn9R//qELhQqLF4kHgx0BvYAvwD1+7nR9CXNptEZEZIlIqIqVt2rSJsquKkl2kas5HNH6dup8VLuQZPuMn3M4kGg4+CZYvhwcegLZtY93tjCOhYiEi34hIjYjUAo8A/X27NgEdAg4tAr7ytRfZtCuKEmMmTEhezofbjCaa9TH8nz3/qA/4Lz/lGf6Hlh2awoIF8NJL0K1bvL5SxpFQsTDGtAt4+wvAHyn1InCRMSbfGNMJ6AIsFpEtwC5jzABfFNSlwNxE9llRsoGKirrRRoHEO+fDy4wm4lUr162jbN7FvPD1AE466kt45BFarv3YysZWwiJuDm5jzGxgMNDaGLMJuBEYbIzpjWVKWgdcCSAinxpjngZWAAeBq0SkxneqscDjQGMsx7Y6txUlxrjNHuKd8+GWxR6x43/nTvj73+Huu63pyvXXwx/+kNGF/uKNkQxdCKi0tFQqKyuT3Q1FSQtycurnIvgpL49vtJbTtY2xZhJhcfAgPPKIVS582zZrXYlp00DXR/GMMWaJiJQGt2sGt6IkgFSMMgrEafZQWBj/sN6YZLGLwPz5VkXYceMsX0RlJcyapUIRI1QsFCXOpGqUkZ+KCti9u357QYG1rk+8iTqLfflyOOMMOOcca2bxwgvw5ptWNrYSM1QsFCXOpHJlWbtSGhBe7aVoiTjaacsW+O1voXdv+OgjS9mqquD887OuImwiULFQFOJrJkrlyrJ2QgaWHziRWeVhRTvt3Qt/+Qt06QJPPAG//72VVPe730HDhgnqcfaRVWtwK4odYa27HAEdO1rntGtPNqksZPWorbW87X/6E2zeDBdcALfeCj/+cbJ7lhXozELJeuJtJkrlyrJpUyL97behXz+47DL40Y9g4UJ49lkVigSiYqFkPfF+uo4mAzneOAnZ2WenSPTWF1/AsGEweLAVClteDu+/DyefnKQOZS9qhlKynkSYiVK1sqy/T1OmWOLYsaMlFLNmxc8s54nt2+Hmm626TY0awd/+BldfXXcFJCWh6MxCyXpS2UyUCIKdy/PnJzF668ABuPNO6NwZ7rsPRo60nNeTJ6tQJBkVCyXrSWUzUTjEKqIrKU5vEXjuOSuZ7tprYcAAWLbMWmviyCPjeGGLVE+aTAnsVkTKhE1XylOyifJykYKCuivBFRREtupeNCvTRcQHH4j89KfWRXr0EHnllThdyJ5Y3rtMAIeV8nRmoSgpRKRPuLGM6LIzyxlj+TK84Pk7bNhgTd9OOMFyZM+YAR9/DEOGhN/pKEjlpMmUwk5BMmHTmYWSbjg94Y4de3iN7sJCawter9sY+9nAoXWmw2Ts2Prn9PK07ekpfedOkcmTRfLzRRo1EpkyReT77yPraAyI9b1Ld3CYWSR9UI/XpmKhpBtO5h+nwSxwII6V6cjtXF7O59qP6mqRhx4SadvWarzkEpENG8K/UTEm4Wa3FMdJLNQMpSgpgpMDWVxWEfCbS2IR0VVRAVdcYR9GHKqPofb/ZP0rVg2nMWPgmGPgww/hySehQwf7DySQbI+G84qKhaKkCJHmdfhN/9FGdE2YAD/8EF0fg/f34BNeYQgvcxa7tu23Ip7efhtK6y2XkDQyJRou3qhYKEqK4ORYDkWrVtbfiJce9eG0rKofL0/b/u9wJF/zMKNZSm/68SFXcxcddq2gYt8v41oRNtIAgWjvXVZgZ5vKhE19Fko64vcZ+B3YY8fWdxgHb3l5sQnzdLtGoDPdlb175ePhf5XvaSo/0EDu5GppyfaE+AE0BDY2oA5uRYktwQN7vAal8nIrAirUYB4tTtcoLPTw4ZoakSefFCkqEgF5jl9IZ75IaISROqpjg5NYqBlKUSIgkavflZVZ60u4sX599Ne+5x7Iy6vblpfnYbW8hQutXIlf/9rKtn77bUYX/ovVdKl3aDyr2aZVufU0JG5iYYyZaYzZaoypstk30RgjxpjWAW2TjTGrjTGfG2OGBLT3NcZ84ts33RhdAktJPolO5HKLUPITrViVlcFjj9V19D72mIv9ftUq+OUv4Wc/g6+/tqKbFi+mYuMgdu2qf3heXnwjjNKm3Hq6YjfdiMUGDAKOB6qC2jsA/wHWA619bd2AZUA+0AlYA+T69i0GBgIGeBk4y8v11QylxJNYJ3KFMmnl5rqboaIxuYRtTtu+XeTqqy1nSdOmIn/9q8iePYd2O5mDPJmzosBLUmM8zYWZAsnwWQAlNmLxLHAcsC5ALCYDkwOO+Y9PINoBKwPaLwYe9nJtFQslnsTSPu7FMetFKCIRq7CcwgcOiNx1l0jLliI5OSKjRols2VLvsGRmRHsJEFCntztOYpFQn4UxZiiwWUSWBe1qD2wMeL/J19be9zq4XVGSSiwTubyYtIqLvZ0rXJNLqGtXVEBJsfBL8zxrm3S31rsuLYWlS61khKOO8tyHRJiDUqrceoaRMLEwxhQAU4Ab7HbbtIlLu9M1RhtjKo0xldu2bYuso4rigVgmcnlxzE6bBg0bup8nErFyu3ZFBTw4spJZGwbzL37J3oMN+UX+fCou/Q/07Ol4zlTKiFandwyxm27EaiPADAX0BLZimZ/WAQeBDcBRqBlKyWK8mrTcwmcjtcU7XXtA+w3yXJNLREC+oY2M5iHJpdqzqS1RYcWh0HDa8CFVfBYB+9Zx2GfRnboO7i857OD+EBjAYQf32V6urWKhpAte/QZuvoBIBme7/I2mfC+3NJgi1XmNZB/5Mo3JcgQ7HX0P4Vw3GQKiiXrhk3CxAGYDW4BqLF/DyKD9h8TC934KVhTU5wREPAGlQJVv332A8XJ9FQslnfAykLpFGYU7IAYPojkclN8yQ742R1oNI0bIie3XuT6VhzMQJ3PQTpVZTrqQlJlFMjcVCyUUqTqIOPXLaY0JJ/OUk6mlvLxuKO7p/EeW00MEZHH+SdbKdRJ6gA/HxKPmoPRBxUJRAkhV84RbrkBwuzH2AuIWqhp4/m5UyXzOFAFZzdHyS54VQ229450E1W2djeDP6AJD6YOTWBhrX+ZRWloqlZWVye6GkqKUlNhnRRcXWyGXycKpX7m5UFNTv90fUuv1u5SUwL713zCVGxnFI3xPM/7C9dzPVfxAfljf36mvxlhS4KegABo3tq9qm+z7rdTHGLNEROrVkNfaUEpWkqohlU7XtxMK//GeQ1X37WPE+r+zii6M5J/cx3g6s5q7uIYfyA8rvLWiAnbvrt8eLBRwOM8hVcJplchQsVCyklStI+R0/dxc5+MDcz78x/oTzyoqsDLUnnoKjj2Wv/En3uBUuvMpV3MPOyg89BmveSL+IorBM4UmTeoLhZ8dO3SBobTHzjaVCZv6LJRgAu3vhYUiDRumt8+iYUPre7iVtjg1/7+y7cf9rTd9+siCP70Zta/Gba3wcJ3tSuqBOriVbMZuEM7LqzvYhhowg8XG6bPRRlk5fT74+nl59Qdr/+ujWS3PcIEIyFe57UVmzbLWnIhB/9wc25GE8SqphYqFktVEG7pZXl5/cLYbEJ2ikwoLD1c/hcOhq/7BOjhBrrDQfYB1+j4t2CF3cI0cIE920UT+zM1SwJ6Yhgk7XdsvWKkakqx4Q8VCyWqiDd0MtVKdf4B3e+p22vLyRBo0sG93GmiDr9OAH+R/uUe+pZXUYOQRRspRfBWXp323UFg1N6U/TmKhDm4lK4jWoW0X9ml3jDg4eN2oroaDB+3bnaqjHu63MJS5fEp3pjOBjziePnzMKB7la9odikCKZeXVsjIYM8ZyVAei0U2ZjYqFUoeKCit+PifH+huPZULjRUUFtG5tDWLGWK/9/U+lSqjhYBdK6w9b7cNHvMkpzGUYB2nA2bzEGSxgOccBhyOcduzwfm6vPPCAtTCeRjdlEXbTjUzY1AwVPqma1ewFJ59Cw4b2DuJAX4EX+3ooM5Rb2Y1otmCzTnm5SOdGG+VxLpUajGyltYzhgUMVYe1MbOlSaiNcv40SH1CfhRKKdBlU7HBzurrVSAqnEF5wqG3g+f3CE3y+mPosdu2Su5tfL3toLPvIl7/zR2nGdyG/dzo8BHgReyUxqFgoIUnn+j1ujmWn/ocrjl5mIW7htRFHQx08KPLooyJHHSUC8hQXSTFrQ4rQaad5C/VNBSIR+0jQSK3QqFgoIcm2mUVaiOOrr4r06mV1bOBAGXbUIs8zFrsKtak6OEYi9uGSDjOsVMBJLNTBrRwi3ZzAgc743butv8E0bOjc/1Qt+QHAihVwzjlw+umwaxf83//Bu+9y4R0D6v0bOSFS931gCZBUC2Jwu+ex+vfwsta54oKdgmTCpjOLyEiXabrdU2LDhiJNmhx+b+cg9VryI9IV4CI19/jP0ZZv5ImmY6UmJ1ekeXOR228X2b/f8XrFxeE71lPx6ToRPou0mEmmAKgZSskkIjGZeS354bTIkNcV4MIdiMvLRVo23id/4Bb5jmZSTa480GC8PPPgtkP73YTLrg9OA2PgokepZmqMdzRUOptZE4mKhZJRRPKU6GWw8Jqd7B/AvTzJuw5GtbUyvvVsWYt1srmcJ8fw2aHPebWzBwuKXVFBN1FzWigpHWaZXlGfhTdULJSMwm09aqdBzovAhKp7JBJZiKztgPTuuyInnCAC8hG95RRer3e9UALnVnTQ7ind69N1pg6smSaA8UDFQskonPIecnPr2779g5yXgdLLDMHrjMJxoF2zRmT4cGtHu3ZybeFjksNB2+u5CVw45cwDfTFeREBLjWcvCRcLYCawFagKaPsLsBxYCiwAfhSwbzKwGvgcGBLQ3hf4xLdvOlhLwYbaVCwyn3Acu15MOqHWig41Qwm19ezw/0QmTrRUrqBA5KabRHbvdu2Xm8A57QvllwjlkC8vd/4O6gzOfJIhFoOA44PEolnA698BD/ledwOWAflAJ2ANkOvbtxgYCBjgZeAsL9dXsch8whm0A01ITmYItxlDYFROuDOLBvwgV3GvbKNQajBSnv8b+RGbHdeqCG53EpJIRCsQp3O7ibDOLDKfpJihgJJAsQjaNxl4MOD15IB9//EJRDtgZUD7xcDDXq6tYpH5hDNoexnkQg2+/vIboda2OLzVyrm8KJ9xjAjIa5wqx/Gx7cDvhpOQhDuzCJwdiURWy0pt/JlP2GIBzAdKnPZ72ezEApgGbASqgDa+tvuASwKO+SdwIVAKvBbQfjIwz8u1VSwyH6dcC7uB3EsYphfx8YtOqIG2Nx/J65wiAvIZx8i5vChQG9OndTefRaiILjdTk9NWWBhZP5X0wkks3DK4HwcWGGOmGGPyXI4LCxGZIiIdgApgvK/Z2B3q0m6LMWa0MabSGFO5bdu26DurpBTBmcdglcX2l8kuLIQjjrDWgQjO5t6+HUaPds9Wnjat/hoNwaxfb53baX2LH7GZmfyGJfSlF8u5ivvoySfM4zzsf86RlwovK6v7/f1lwh94wBre3a7llrVcWGhlvgfSsCHcc09k/VQyBDsF8W9AE+BWLH/CROAa/+b2uYDPl+Bshir270PNUEoIvDinvYSzhnqKD/dp+1Bf2C03cqPspkD201BuZZI05/95+mw8/AChIr/cTG5jx9afnbmt2qdkFkRYG6oa2IPleD4iaAsbY0yXgLdDgZW+1y8CFxlj8o0xnYAuwGIR2QLsMsYMMMYY4FJgbiTXVtKbUHV97PbbsX69/eJIfoqLw+tXDjVczmOsogs3MZVXG57Lsazkj9zGTlqE/HxeHpx9duxrNYWq8+VUb6lpU5g/35qdBeK2ap+SJdgpiCUunAmsAG4BCpyOc/n8bGALluBsAkYCz2H5KpYD/wbaBxw/BSsK6nMCIp6w/BZVvn33oaGzaUcsEqFCJdRFGs4a/MQcTsLdqbwmH3OcCMiShgPklRveDbsfDRo454XE87475am4Oe41bDY7IAIH9ztAd6f9qb6pWKQGscoEDmVWiSRRzskMFKqUxzF8Ji9yrgjIxtxikTlzRGpro+5H4JabG/8sYycnfSrXj1Lij5NYOJqhRORkEfk0lrMYJfuIVVnoUGYVu/0NG0KTJqHP7eZgDnR4t2Yb9zKeKnowiIX8Oe9W3nlkJfzqV1Q8ZSgpOWzmipaaGmuIXr8+tGMeIis77rQ2d01NepWqVxKEnYJkwqYzi9QglmWhvVRfDVVML9QTs91MqBH7ZCK3yU5jVYS9n3HSp2irq3M9UrOY19lP8PeOZPbmNlvTGkrZC1obSkkGbolj8R6IvJqEnLO4a2U4/ydfUmI1nHOOyIoVYX3HUNd2ygsJR1wjLb2dqcUClehwEgtdKU+JK3bmIQjfzBIJXvIXCgutfIXgz5zA+7zLSTzNr/ieZpzOqzBvHvzkJ4eO9Zt+1q+3P3dNjfu1i4th5kx47LHQUVhuq8U5fc9Q398pTyPwfijKIewUJBM2nVmkDoEmjUQ6T0PNLOyeok9qv1Zm8ysRkK84Sn7DPyWHg55KeEfjKHY7X6in/XRZ1EdNW+kBaoZSUoFELm3p5kuoN1h9951UnfsH2Ue+7KGx3MQN0oRdjoO1FyFyKxUejJspy0vtqFQ3J6VDHxULFQslaXidWcTjyTMwDNZ/bb/zu7BQJJdqGcv9so3WUoORx7hM2rPRdtAeO/bwed0c2F6qyQYTrYjaOfdT6Sk+XWY/ioqFkiS8mGuMETnttPg9edr3oVbOZp6s4FgRkDcYLH1Y4tpPOCwYsR78Ynm+VHyKT+SMUokOFQslKXiNSPKy7rWfcGcgwX3oxVJ5ldNEQFbSVc5jrjhVhLWbYfj7YGfiCpx9hINbBdlwZwip+BSfin1S7FGxUJJCtPkGwU+e4Tw1B2dit2OzPMoVUoORb2kl45kuDfgh7D75sSsFHs0TfLAInnZaZOdPxaf4VJztKPaoWCgxI5wn+2jLXwQ7eL0+oQYOTgXsluuZKrspkAPkye1cKy3YEXF/wu1LpPc4nNmWl3ue7Kd4jYZKD1QslJjg9Qkx8Kne6+zC6bjA84dyLPsHosJCEUONXMrjsokfiYA8zYVyNKujEi8vTm4vS7iGwk1kQ80Q9CleiQYVCyUmeHlqDadya+BgNnZs6NwEp+sHD9yDeUOW0EcE5H36y4n81/X6hYWH/QNOxzRp4u1e+Ffli2bADiWKodCneCVSVCyUmODlaTdc01OgqcnL07pdaW3/1pWV8gJDRUDW0VEu4ikx1LheP3CpUafZkNPsyanMt1NFV6+mIDdR1IFfiSdOYqHlPhTPVFQ4V1QNLEfhtYorWKVAZs06XGLCqaxFYLtI/f2t2M49/I4qenAKb3Idf+dYVjKHi3H7mfurqVZUWGVH/KU7RA731akMRlmZtYxrMNXVzsuuel1C1a5MijEwZkz9fkRScVZRwsZOQTJh05lF7PH6tOu1mmlhoc+3EGAqCRWSGnzuhuyXa7hDdtBCDpIjDzBG2vCNbR+bNq3b5jcXheqzG+FGe4XjZPZiSlL/hBJrUDOUEi1uA2MgXgYwt2PcQlIPt9fKBTwjqzlaBOQlzpJuVLkO1G59ijTcNFyTW6R5GOFeP9mRT0r6omKhRE04dvRQT8Vug5zbvsJCkf68L+9wkgjIMnrK6fwn5CAdqePcS5nveM0svJCKORVKeqNioURNNLH/wbgNco7XYJ082/BiEZAtHCkjeURyOFjnGKcZS6gB3H9tp5mHm/g5ObNjNYi7XVtnFkqsUbFQYkKsBsFwZhZHsFP+xnWy31cR9mb+LE353nb2IGI/uHoNubWrShuqFIfbeSIdxL1GZqnPQok1KhZK1JSXx249CrdBzr8vl2q5kgflG9qIgLzf9dcyoP0GR8Fy8weEs/Rp8HeJRGjCKU/upa9ufdScCiWWJFwsgJnAVqAqoO12YCWwHHgeaBGwbzKwGvgcGBLQ3hf4xLdvOmC8XF/FIraEGsACI4vCOaftIFdbK/eePV+q6CYC8iY/k+OpdFwjAqw6SuFez+ssKZyIp1gM4l6c5uqTUOJFMsRiEHB8kFicATTwvb4VuNX3uhuwDMgHOgFrgFzfvsXAQMAALwNnebm+ikVs8TKAxcT8sXy5yOmni4B8QWc5n+clsCKs/6ndP8MJXmciFt/J68wiXoO4F3FSn4QSL5zEIm5JeSKyENgR1LZARA763r4PFPlenw/MEZEDIrIWaxbR3xjTDmgmIot8X+IJYFi8+qw44yWZbO9emDIlsvM/d//XzD5iFDW9evPd65VM4G668ylzGYb1nGCxfr2VxOdf37qmxnpfURF+cppd4ps/SS/UcV6SEyMl1Dns+qgoccdOQWK1ASUEzCyC9v0buMT3+j7/a9/7fwIXAqXAawHtJwPzXK43GqgEKjt27Bhbuc1ywlmXIiz27JGlF/5FdtFEDpAn/+D30pLtrtFSTmawSHwEXk1FdivRJXKxJsflYBUlxpAMB7eTWABTsHwWxvf+fhuxuADoZyMW//ZybTVDxRavxQE9m0dqakSeeEKkqEgE5Fl+KT9mlWdzTyQ+hHjck3g5ltVprSQLJ7FoEKcJiyPGmMuAc4HTfB0D2AR0CDisCPjK115k064kGH89oilTLJNUq1bw/fdWHSQ/ns0jb78N114LS5ZAaSmDNj3FO5wcl357rcUUCWVl9es0pcO5FSUSElpI0BhzJvBHYKiI7A3Y9SJwkTEm3xjTCegCLBaRLcAuY8wAY4wBLgXmJrLP2YIXe39ZGaxbB7W1cM890KzZ4X2FhXDZZZaYBJ4j8LyD269iY+kvYPBg2LoVysvhgw/YUBydUBQUWNe3IxY+BD9asE/JauymG7HYgNnAFqAaa4YwEstxvRFY6tseCjh+ClYU1OcERDxh+S2qfPvuQ0NnY064iV1eTVJ5eVYJ75Zsl7uYID/QQL6nqXw8fJrI3r11zpeXV/+zOTneTE1jx8Y/OU2T35RsAU3KU5wIp2SEW2JePbHggFzNnYcqwj7EaGnL17ZLoAavC9GwoUi3bh6vk3c4mS9edn4tq6FkC05i4XcwZxylpaVSWVmZ7G6kBTk51tBnR2C7f82HvXvtjw34FL/geW7jD3RmDa8whIncwaf0AKyw09raw0eXlBxeRyIQY5z7FUxhIXz7rbdjI8HpHgV/F0VJd4wxS0SkNLhdFz9SHO36xsC4cYft9JddFlooSvmQt/kZ/+IC9tOIM3mZs3jlkFAEX6+iwl4owLtQgPNiQ7HC6R7l5ETvu1BfiJIW2E03MmFTM5R33KrJei110YH18iRlIiBf01ZG8bA0alBdz7wUqgheNJvTd4uFacqtr9H4LtQXoqQaqM9CcSPSAbop38tf+ZPspZHspZFM409yBDvrrHwXbnltN5FycnoXFtb/TrEeiGNZSDHUPVBfiJIsVCwUV8Jd8S2XahnFw/I1bUVAnqRMBrZfH9ZA7DZrscuQdjq+YUN7AYjHQBzrxYZ08SIl1XASC/VZZDl+e/n69fXrHTnVPzor5z8spTczuBLTtSssXswlUs57mzqGlUjm5AcoLoYHHoAZM6zX/r6I1O9bcTHMnGmfwOaUkBdNop5TnyPN54j1+RQlXqhYZDH+6Ca/g1mk7iA8ZkzdAnrdqWJBzpnMrz2THj/eD889R9uVC6Ffv4iuH6qQnz8JsLi4rlD4+1pcbO13Eqh4DMReiw8m63yKEjfsphuZsKkZKjRezDTl5SJ9i76WhxktB8mR/QUtRO68U+TAgZj0wYsDOlJTTbycx7HO59A6UEoqgfoslGBCDsJ794pMmybStKlIgwYiEyaIfPttxNeL9WJAubnhV4vVgVhR3FGxUOrhNAiXdKyxRtUOHayGYcNEPv88qmtF85TvJcRWw00VJTY4iYX6LLIYO3v5z/Pf4cMGA+CSS6BNG3jrLXj+eejaNaprTZlSP6HPbrEkuwS1srLDzm5jIDe3/vlDLbykiW+KEiV2CpIJWzbPLMIxvfiP7cwqmV/wS+sxvX17a62JmpqY9cmL38HL7KO83Hl24eTD0MQ3RfEOaobKDsIeGHfsEPn9761qfE2aiPzlLyJ79ni6Tji+AC/O9FDH2BUc9JI/EW6hRPVxKNmMikWW4HlgPHBA5O67RVq2tNKif/tbka++8nSNSJ7UvXwm1OyjsNBZKNyu7zWaSmcgiqJikTWEHBhra0Wef16kc2cRkLcbnS69WBaT6KRQmdFOT+3+9lAzBjcHt1vfvfZXS28oiopF1uA64FVWigwaJALy3Y9+IsPy5wvUhv0UHcsSFaEinQL75CYW4V7D7rtq6Q1FcRYLjYbKMOwinLo02sgbHS6F0lL47DN48EGOb7CcFw6cBRyu6REqoshPLDOj7aKk/BQXW1FQ/gztHIdfq1O7n+BoquDz+tHSG4rigp2CZMKWrTMLkcNmnSP4Xu5p/mepzmskkp8vct11Ijt3ikh0T9FuT+rhOojD6UekMwuvqM9CUZxnFkkf1OO1ZbNYyMGDIjNmiBx5pPVPfPHFIuvW1TkkWvu8nSh4HWwDPxtOye9E+BQ0GkrJdlQssoUFC0R69rT+aU86SeT9920Pi8dTdCgntZOguPkpou2zDv6KEh4JFwtgJrAVqApoGw58CtQCpUHHTwZWA58DQwLa+wKf+PZNB2vd8FBb1onFp5+KnHWW9U/aqZPIM89YkU8uRDKQun0m1Kp6BQXO4a9e6jyF22c1KylK+CRDLAYBxweJxU+AY4C3AsUC6AYsA/KBTsAaINe3bzEwEMsT+zJwlpfrZ41YfPONyJgx1mjbvLnIHXeI7N8fl0uFGnzDXUDJi68kmpmBhsIqSvg4iUXcoqFEZCGwI6jtMxH53Obw84E5InJARNZizSL6G2PaAc1EZJHvSzwBDItXn9OK/fvhllugc2d49FEYNw5Wr4Zrr4X8/LhcMlR9J7tILK/YRRwFrrchYv0dPdp7Xad4LH6kKNlKqoTOtgc2Brzf5Gtr73sd3G6LMWa0MabSGFO5bdu2uHQ06YjA7NlwzDEweTKccgpUVcH06dC6dZ1DY108L9TgGxii6kRhoffFfrwWH3RCQ2EVJXakiljYLeApLu22iMgMESkVkdI2bdrErHMpw7vvwoABMGKENeq+8QbMnWsJRxDRPpXb4WXw9a9uV15uLwr33OMt5wGinxnoKnSKEjtSRSw2AR0C3hcBX/nai2zas4s1a2D4cPjpT2HTJnj8caistGYVDkT7VG5HOIOvWyKcX1Bqa+O7LKrXZDxFUTxg58iI1QaUEODgDmh/i7oO7u7UdXB/yWEH94fAAA47uM/2cu2McHDv2CFy7bVWRdiCApGpU0V27/b00XCS3YKdyGPHOjuVExmKqtFMipJ4SEI01GxgC1CNNUMYCfzC9/oA8A3wn4Djp2BFQX1OQMQTUApU+fbdR5qFzkY0uP7wg8j06SKtWlkfvOIKkc2bw7qu10igZK5C5+XeaJ6EoiSWhItFsrdUEIuwn4xra0XmzhXp2tU6+LTTRJYudTy32yDq9dpew11jHW6qswZFSU1ULJJAWHH+S5aIDB5sHXDssSLz5jkm1UVSVsPpqTxUIl2oPIhI0RwIRUlNnMTCWPsyj9LSUqmsrExqH3JyrCEwGGMs5y4AmzdbXucnnrAinKZOhVGjIC/P8bwlJVZ0UzDFxZbDOByczhWLc7vh6d4oipJwjDFLRKQ0uD1VoqEyEtdont274cYboUsXK29i0iQrqW7cOFehAOfQUS+DfjBeEunCDTf1kt+hORCKkl6oWMQRu4G4aeMaZp8xE7p2hZtvhqFDYeVKuPVWaN7c03mdBlRjws+jsAsvHTs28nBTr/kdmgOhKGmGnW0qE7ZU8FmI1PUbjGj7quzo2Msyzg8YIPLeexGf08nXkGybfzi+CI10UpTUA/VZJJHPPrPMTC+9ZNllbr3VSrIzdgnq3nD6aLJt/uqLUJT0Rn0WyWDbNrjqKujZE955B267zRKO//mfqIQCnOsvJdvmr74IRclMVCziwf79ljB07gwPPwxjxljO60mToFGjmFwiVW3+qdovRVGiQ8UilojAnDlw7LHwxz/Cz35mVYS97z6IcWHDVK17lKr9UhQlOtRnESsWLYJrroH334feveEf/4BTT03c9RVFUWKA+izixdq18KtfwYknWnGiM2daFWFVKBRFySAaJLsDact338Hf/mYt0NCggZVgN3EiNG2a7J4piqLEHJ1ZhEt1Ndx/v+W8vuMOayGiL76Am26KWihivbKdoihKrFCx8IoIzJtnhcGOHw+9esGSJfDYY9DecaVXz8RjZTuv11WBUhQlFCoWXli6FH7+czjvPGskf/FFeP116NMnZpeIx8p2oUiWQCmKkn6oWLjx1VdwxRVw/PGwbBnce68VCnveeVEn1QUT7XrTkZAMgVIUJT1RsbBjzx6rVHiXLtZj9rXXWkl148eHrAgbKU4Zzq1axeVyQHIESlGU9ETFIpDaWnj8casi7E03wTnnWOU5br8dWrSI66WnTbPXoV274mcW0tIciqJ4RcUimHvvhQ4d4N134emn4eijE3LZsjJo1qx++w8/xM8spKU5FEXxiuZZBJKTAy+/bJXmiLFPwgs7dti3x8ss5C/BMWWKdY2OHS2h0NIciqIEE7eZhTFmpjFmqzGmKqCtlTHmVWPMKt/flgH7JhtjVhtjPjfGDAlo72uM+cS3b7oxcR7F27ZNilBAcsxCZWXWcqm1tdZfFQpFUeyIpxnqceDMoLbrgNdFpAvwuu89xphuwEVAd99nHjDG5Po+8yAwGuji24LPmTGoWUhRlFQlbmIhIguBYMPK+cAs3+tZwLCA9jkickBE1gKrgf7GmHZAMxFZ5FvB6YmAz2QcWrFVUZRUJdE+iyNFZAuAiGwxxrT1tbcH3g84bpOvrdr3OrjdFmPMaKxZCB3TNKSnrEzFQVGU1CNVoqHsnATi0m6LiMwQkVIRKW0T4/UjFEVRsplEi8U3PtMSvr9bfe2bgA4BxxUBX/nai2zaFUVRlASSaLF4EbjM9/oyYG5A+0XGmHxjTCcsR/Zin8lqlzFmgC8K6tKAzyiKoigJIm4+C2PMbGAw0NoYswm4EbgFeNoYMxLYAAwHEJFPjTFPAyuAg8BVIlLjO9VYrMiqxsDLvk1RFEVJILqsqqIoinIIXVZVURRFiRgVC0VRFCUkKhaKoihKSFQsFEVRlJCoWMQAXcdaUZRMR0uUR4l/HWv/8qT+daxBy3YoipI56MwiSnQda0VRsgEViyjRdawVRckGVCyiRNexVhQlG1CxiBJdsEhRlGxAxSJKdMEiRVGyAY2GigG6YJGiKJmOziwURVGUkKhYKIqiKCFRsVAURVFComKhKIqihETFQlEURQlJxq6UZ4zZBqxPdj9ShNbAt8nuRAqh96M+ek/qks33o1hE2gQ3ZqxYKIcxxlTaLZOYrej9qI/ek7ro/aiPmqEURVGUkKhYKIqiKCFRscgOZiS7AymG3o/66D2pi96PINRnoSiKooREZxaKoihKSFQsFEVRlJCoWKQhxphGxpjFxphlxphPjTFTfe2tjDGvGmNW+f62DPjMZGPMamPM58aYIQHtfY0xn/j2TTfGmGR8p2hwuR83GWM2G2OW+razAz6TsffDjzEm1xjzsTFmnu99Vv4+ArG5J1n9GwkLEdEtzTbAAE19r/OAD4ABwG3Adb7264Bbfa+7AcuAfKATsAbI9e1bDAz0nfNl4Kxkf78Y3o+bgIk2x2f0/Qj4ntcATwHzfO+z8vcR4p5k9W8knE1nFmmIWOz2vc3zbQKcD8zytc8Chvlenw/MEZEDIrIWWA30N8a0A5qJyCKx/hc8EfCZtMHlfjiR0fcDwBhTBJwDPBrQnJW/Dz8O98SJrLgn4aBikab4ptNLga3AqyLyAXCkiGwB8P1t6zu8PbAx4OObfG3tfa+D29MOh/sBMN4Ys9wYMzPA7JLx9wO4G/gDUBvQlrW/Dx93U/+eQPb+RsJCxSJNEZEaEekNFGE98fRwOdzOpiou7WmHw/14EPgx0BvYAvzDd3hG3w9jzLnAVhFZ4vUjNm0Zcz/A9Z5k5W8kElQs0hwR+Q54CzgT+MY3Tcb3d6vvsE1Ah4CPFQFf+dqLbNrTlsD7ISLf+ESkFngE6O87LNPvx0nAUGPMOmAOcKoxppzs/n3Y3pMs/o2EjYpFGmKMaWOMaeF73Rj4ObASeBG4zHfYZcBc3+sXgYuMMfnGmE5AF2CxzxSxyxgzwBfRcWnAZ9IGp/vhHxh9/AKo8r3O6PshIpNFpEhESoCLgDdE5BKy9PcBzvckW38jkdAg2R1QIqIdMMsYk4sl+E+LyDxjzCLgaWPMSGADMBxARD41xjwNrAAOAleJSI3vXGOBx4HGWJEdLyf0m8QGp/vxpDGmN5aZYB1wJWTF/XDiFrLz9+HGbfob8YaW+1AURVFComYoRVEUJSQqFoqiKEpIVCwURVGUkKhYKIqiKCFRsVAURVFComKhKAnAGNPBGLPWGNPK976l731xsvumKF5QsVCUBCAiG7FKS9zia7oFmCEi65PXK0XxjuZZKEqCMMbkAUuAmcAooI+I/JDcXimKNzSDW1EShIhUG2MmAa8AZ6hQKOmEmqEUJbGchVXd1K1KsKKkHCoWipIgfDWITsdaxe/3QUXsFCWlUbFQlATgq1D6IHC1iGwAbgfuSG6vFMU7KhaKkhhGARtE5FXf+weAY40xP0tinxTFMxoNpSiKooREZxaKoihKSFQsFEVRlJCoWCiKoighUbFQFEVRQqJioSiKooRExUJRFEUJiYqFoiiKEpL/D0fSdm3HpTl+AAAAAElFTkSuQmCC)\n",
        "\n",
        "Garis merah pada grafik adalah hubungan sesungguhnya yang ingin disetimasi. Kita berusaha untuk meminimalkan kesalahan model yang kita bangun. Garis ini adalah garis yang paling tepat menggambarkan hubungan antara data X dan Y dengan melewati sebagian besar titik data dan memiliki kesalahan yang paling minimal. Kesalahan ini berupa jarak titik data ke garis estimasi model ini. Secara konseptual kesalahan ini diilustrasikan pada gambar di bawah ini. \n",
        "\n",
        "![LS.gif](data:image/gif;base64,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)\n"
      ]
    },
    {
      "cell_type": "markdown",
      "metadata": {
        "id": "_MLg2d6b9gpf"
      },
      "source": [
        "Dan kesalahan total model linier adalah jumlah kesalahan dari setiap titiknya, yaitu: \n",
        "\n",
        "<img src=\"https://latex.codecogs.com/gif.latex?\\dpi{100}&space;\\sum&space;\\limits_{i=1}^{n}&space;{\\epsilon_i^2&space;}\" title=\"\\sum \\limits_{i=1}^{n} {\\epsilon_i^2 }\" />\n",
        "\n",
        "<img src=\"https://latex.codecogs.com/gif.latex?\\dpi{100}&space;\\epsilon&space;_i\" title=\"\\epsilon _i\" /> = Jarak antara garis ke titik data ke-i\n",
        "<img src=\"https://latex.codecogs.com/gif.latex?\\dpi{100}&space;n\" title=\"n\" /> = Jumlah total titik data\n",
        "\n",
        "Formula di atas diperoleh dari:\n",
        "\n",
        "# <img src=\"https://latex.codecogs.com/gif.latex?\\dpi{100}&space;y_i&space;=&space;b_0&space;&plus;&space;b_1.x_i&space;&plus;&space;\\epsilon&space;_i\" title=\"y_i = b_0 + b_1.x_i + \\epsilon _i\" />\n",
        "\n",
        "# <img src=\"https://latex.codecogs.com/gif.latex?\\dpi{100}&space;\\epsilon&space;_i&space;=&space;y_i&space;-&space;b_0&space;-&space;b_1.x_1\" title=\"\\epsilon _i = y_i - b_0 - b_1.x_1\" />\n",
        "\n",
        "<img src=\"https://latex.codecogs.com/gif.latex?\\dpi{100}&space;\\sum&space;\\limits_{i=1}^{n}&space;{\\epsilon&space;_i^2}&space;=&space;\\sum&space;\\limits_{i=1}^{n}&space;(y_i&space;-b_0-b_1.x_1)^2\" title=\"\\sum \\limits_{i=1}^{n} {\\epsilon _i^2} = \\sum \\limits_{i=1}^{n} (y_i -b_0-b_1.x_1)^2\" />\n",
        "\n",
        "\n",
        "\n",
        "Pada baris terakhir persamaan di atas kita **mengkuadratkan kesalahan yang berupa jarak antara garis estimasi dengan titik data**. Kita dapat mengkuadratkan masing-masing jarak karena terdapat beberapa titik di atas garis dan beberapa di bawahnya. Kemudian, untuk memperoleh model terbaik jarak tersebut dapat kita minimumkan. Misal <img src=\"https://latex.codecogs.com/gif.latex?\\dpi{100}&space;\\sum&space;\\limits_{i=1}^{n}&space;{\\epsilon&space;_i^2}&space;=&space;J\" title=\"\\sum \\limits_{i=1}^{n} {\\epsilon _i^2} = J\" /> \n",
        "\n",
        "Ide Dasar Metode OLS: **Nilai minimum dari fungsi kesalahan <img src=\"https://latex.codecogs.com/gif.latex?\\dpi{100}&space;\\sum&space;\\limits_{i=1}^{n}&space;{\\epsilon&space;_i^2}\" title=\"\\sum \\limits_{i=1}^{n} {\\epsilon _i^2}\" />\n",
        "\n",
        "**terhadap koefisien** <img src=\"https://latex.codecogs.com/gif.latex?\\dpi{100}&space;b_0\" title=\"b_0\" /> **dan** <img src=\"https://latex.codecogs.com/gif.latex?\\dpi{100}&space;b_1\" title=\"b_1\" /> **sama dengan 0. Ini merujuk pada konsep dasar turunan fungsi dalam kalkulus yaitu nilai minimum suatu fungsi terjadi saat turunan pertamanya sama dengan 0.**\n",
        "\n",
        "Konsep ini kemudian diperluas menjadi metode Gradient Descent. \n",
        "\n",
        "**Mencari nilai minimum untuk <img src=\"https://latex.codecogs.com/gif.latex?\\dpi{100}&space;b_0\" title=\"b_0\" />\n",
        "# <img src=\"https://latex.codecogs.com/gif.latex?\\dpi{100}&space;J&space;=&space;\\sum&space;\\limits_{i=1}^{n}(y_i&space;-&space;b_0&space;-&space;b_1.x_1)^2\" title=\"J = \\sum \\limits_{i=1}^{n}(y_i - b_0 - b_1.x_1)^2\" />\n",
        "# <img src=\"https://latex.codecogs.com/gif.latex?\\dpi{100}&space;\\frac{\\partial&space;J}{\\partial&space;b_0}&space;=2&space;\\sum&space;\\limits_{i=1}^{n}(y_i&space;-&space;b_0&space;-&space;b_1.x_1)^2^{-1}.&space;(-1)\" title=\"\\frac{\\partial J}{\\partial b_0} =2 \\sum \\limits_{i=1}^{n}(y_i - b_0 - b_1.x_1)^2^{-1}. (-1)\" />\n",
        "#<img src=\"https://latex.codecogs.com/gif.latex?\\dpi{100}&space;\\frac{\\partial&space;J}{\\partial&space;b_0}&space;=2&space;\\sum&space;\\limits_{i=1}^{n}(y_i&space;-&space;b_0&space;-&space;b_1.x_1)\" title=\"\\frac{\\partial J}{\\partial b_0} =2 \\sum \\limits_{i=1}^{n}(y_i - b_0 - b_1.x_1)\" />\n",
        "#<img src=\"https://latex.codecogs.com/gif.latex?\\dpi{100}&space;\\frac{\\partial&space;J}{\\partial&space;b_0}&space;=0\" title=\"\\frac{\\partial J}{\\partial b_0} =0\" />\n",
        "#<img src=\"https://latex.codecogs.com/gif.latex?\\dpi{100}&space;\\sum&space;\\limits_{i=1}^{n}(y_i&space;-&space;\\hat{b_0}&space;-&space;\\hat{b_1}.x_1)&space;=0\" title=\"\\sum \\limits_{i=1}^{n}(y_i - \\hat{b_0} - \\hat{b_1}.x_1) =0\" />\n",
        "#<img src=\"https://latex.codecogs.com/gif.latex?\\dpi{100}&space;\\sum&space;\\limits_{i=1}^{n}(y_i&space;-&space;n\\hat{b_0}&space;-&space;\\hat{b_1}.x_1)&space;=0\" title=\"\\sum \\limits_{i=1}^{n}(y_i - n\\hat{b_0} - \\hat{b_1}.x_1) =0\" />\n",
        "\n",
        "#<img src=\"https://latex.codecogs.com/gif.latex?\\dpi{100}&space;\\hat{nb_0}&space;=&space;\\sum&space;\\limits_{i=1}^{n}y_i-\\hat{b_1}\\sum&space;\\limits_{i=1}^{n}&space;x_i\" title=\"\\hat{nb_0} = \\sum \\limits_{i=1}^{n}y_i-\\hat{b_1}\\sum \\limits_{i=1}^{n} x_i\" />\n",
        "#<img src=\"https://latex.codecogs.com/gif.latex?\\dpi{100}&space;\\hat{b_0}&space;=&space;\\frac{\\sum&space;\\limits_{i=1}^{n}y_i-\\hat{b_1}\\sum&space;\\limits_{i=1}^{n}&space;x_i}{n}\" title=\"\\hat{b_0} = \\frac{\\sum \\limits_{i=1}^{n}y_i-\\hat{b_1}\\sum \\limits_{i=1}^{n} x_i}{n}\" />\n",
        "#<img src=\"https://latex.codecogs.com/gif.latex?\\dpi{100}&space;\\hat{b_0}&space;=&space;\\bar{y}-&space;\\hat{b_i}\\bar{x}\" title=\"\\hat{b_0} = \\bar{y}- \\hat{b_i}\\bar{x}\" />\n",
        "\n",
        "**sehingga diperoleh dormula untuk <img src=\"https://latex.codecogs.com/gif.latex?\\dpi{100}&space;b_0\" title=\"b_0\" /> adalah \n",
        "\n",
        "# <img src=\"https://latex.codecogs.com/gif.latex?\\dpi{100}&space;\\hat{b_0}&space;=&space;\\bar{y}-&space;\\hat{b_i}\\bar{x}\" title=\"\\hat{b_0} = \\bar{y}- \\hat{b_i}\\bar{x}\" />"
      ]
    },
    {
      "cell_type": "markdown",
      "metadata": {
        "id": "znVA9frMNpRe"
      },
      "source": [
        "**Mencari nilai minimum untuk <img src=\"https://latex.codecogs.com/gif.latex?\\dpi{100}&space;b_1\" title=\"b_1\" />**\n",
        "\n",
        "# <img src=\"https://latex.codecogs.com/gif.latex?\\dpi{100}&space;J&space;=&space;\\sum&space;\\limits_{i=1}^{n}&space;{x_i}(y_1&space;-&space;b_0&space;-&space;b_1.x_1)^2\" title=\"J = \\sum \\limits_{i=1}^{n} {x_i}(y_1 - b_0 - b_1.x_1)^2\" />\n",
        "\n",
        "#<img src=\"https://latex.codecogs.com/gif.latex?\\dpi{100}&space;\\frac{\\partial&space;J}{\\partial&space;b_0}&space;=2&space;\\sum&space;\\limits_{i=1}^{n}(y_i&space;-&space;b_0&space;-&space;b_1.x_1)^2^{-1}.&space;(-x_i)\" title=\"\\frac{\\partial&space;J}{\\partial&space;b_0}&space;=2&space;\\sum&space;\\limits_{i=1}^{n}(y_i&space;-&space;b_0&space;-&space;b_1.x_1)^2^{-1}. (-x_i)\" />\n",
        "\n",
        "#<img src=\"https://latex.codecogs.com/gif.latex?\\dpi{100}&space;\\frac{\\partial&space;J}{\\partial&space;b_0}&space;=-&space;2&space;\\sum&space;\\limits_{i=1}^{n}(x_i.y_i-b_0.x_i-b_i.x_i^2)\" title=\"\\frac{\\partial&space;J}{\\partial&space;b_0}&space;=- 2&space;\\sum&space;\\limits_{i=1}^{n}(x_i.y_i-b_0.x_i-b_i.x_i^2)\" />\n",
        "\n",
        "#<img src=\"https://latex.codecogs.com/gif.latex?\\dpi{100}&space;\\frac{\\partial&space;J}{\\partial&space;b_0}&space;=0\" title=\"\\frac{\\partial&space;J}{\\partial&space;b_0}&space;=0\" />\n",
        "\n",
        "#<img src=\"https://latex.codecogs.com/gif.latex?\\dpi{100}&space;\\sum&space;\\limits_{i=1}^{n}x_i.y_i-\\hat{b_0}\\sum&space;\\limits_{i=1}^{n}x_i-\\hat{b_i}\\sum&space;\\limits_{i=1}^{n}x_i^2&space;=0\" title=\"\\sum \\limits_{i=1}^{n}x_i.y_i-\\hat{b_0}\\sum \\limits_{i=1}^{n}x_i-\\hat{b_i}\\sum \\limits_{i=1}^{n}x_i^2 =0\" />\n",
        "\n",
        "#<img src=\"https://latex.codecogs.com/gif.latex?\\dpi{100}&space;\\sum&space;\\limits_{i=1}^{n}&space;{x_i.y_i}-&space;\\left(&space;\\frac{\\sum&space;\\limits_{i=1}^{n}y_i-\\hat{b_i}\\sum&space;\\limits_{i=1}^{n}&space;{x_i}&space;}{(n)}&space;\\right)\\sum&space;\\limits_{i=1}^{n}&space;{x_i-\\hat{b_i}\\sum&space;\\limits_{i=1}^{n}&space;{x_i^2}}&space;=0\" title=\"\\sum \\limits_{i=1}^{n} {x_i.y_i}- \\left( \\frac{\\sum \\limits_{i=1}^{n}y_i-\\hat{b_i}\\sum \\limits_{i=1}^{n} {x_i} }{(n)} \\right)\\sum \\limits_{i=1}^{n} {x_i-\\hat{b_i}\\sum \\limits_{i=1}^{n} {x_i^2}} =0\" />\n",
        "\n",
        "#<img src=\"https://latex.codecogs.com/gif.latex?\\dpi{100}&space;\\sum&space;\\limits_{i=1}^{n}&space;{x_i.y_i}-&space;\\frac{\\sum&space;\\limits_{i=1}^{n}&space;x_i\\sum&space;\\limits_{i=1}^{n}&space;y_i}{n}&plus;&space;\\hat{b_i}\\frac{(\\sum&space;\\limits_{i=1}^{n})^2&space;}{n}-&space;\\hat{b_i}\\sum&space;\\limits_{i=1}^{n}&space;x_i^2&space;=&space;0\" title=\"\\sum \\limits_{i=1}^{n} {x_i.y_i}- \\frac{\\sum \\limits_{i=1}^{n} x_i\\sum \\limits_{i=1}^{n} y_i}{n}+ \\hat{b_i}\\frac{(\\sum \\limits_{i=1}^{n})^2 }{n}- \\hat{b_i}\\sum \\limits_{i=1}^{n} x_i^2 = 0\" />\n",
        "\n",
        "#<img src=\"https://latex.codecogs.com/gif.latex?\\dpi{100}&space;\\hat{b_i}\\left(&space;\\frac{(\\sum&space;\\limits_{i=1}^{n}&space;{x_i})^2}{n}-\\sum&space;\\limits_{i=1}^{n}&space;{x_i}&space;\\right)&space;=&space;\\frac{\\sum&space;\\limits_{i=1}^{n}&space;{x_i}\\sum&space;\\limits_{i=1}^{n}&space;{y_i}}{n}-&space;\\sum&space;\\limits_{i=1}^{n}&space;{x_i.y_i}\" title=\"\\hat{b_i}\\left( \\frac{(\\sum \\limits_{i=1}^{n} {x_i})^2}{n}-\\sum \\limits_{i=1}^{n} {x_i} \\right) = \\frac{\\sum \\limits_{i=1}^{n} {x_i}\\sum \\limits_{i=1}^{n} {y_i}}{n}- \\sum \\limits_{i=1}^{n} {x_i.y_i}\" />\n",
        "\n",
        "<img src=\"https://latex.codecogs.com/gif.latex?\\dpi{100}&space;\\hat{b_i}=\\frac{\\sum&space;\\limits_{i=1}^{n}&space;{x_i.yi}\\frac{\\sum&space;\\limits_{i=1}^{n}&space;{x_i}\\sum&space;\\limits_{i=1}^{n}&space;{y_i}}{n}}{\\sum&space;\\limits_{i=1}^{n}&space;{x_i^2}-&space;\\frac{(\\sum&space;\\limits_{i=1}^{n}&space;{x_i})^2}{n}}\" title=\"\\hat{b_i}=\\frac{\\sum \\limits_{i=1}^{n} {x_i.yi}\\frac{\\sum \\limits_{i=1}^{n} {x_i}\\sum \\limits_{i=1}^{n} {y_i}}{n}}{\\sum \\limits_{i=1}^{n} {x_i^2}- \\frac{(\\sum \\limits_{i=1}^{n} {x_i})^2}{n}}\" />\n",
        "\n",
        "Sehingga diperoleh formula untuk <img src=\"https://latex.codecogs.com/gif.latex?\\dpi{100}&space;b_i\" title=\"b_i\" /> adalah \n",
        "\n",
        "\n",
        "Persamaan terakhir bisa ditulis ulang untuk kemudahan pemrograman sebagai berikut: \n",
        "# <img src=\"https://latex.codecogs.com/gif.latex?\\dpi{100}&space;b\\hat{1}&space;=&space;\\frac{\\sum{i=1}^{n}&space;(x_i&space;-&space;x\\hat{})&space;(y_i&space;-&space;\\hat{y})}{\\sum_{i=1}^{n}(x_i&space;-&space;x\\bar{})^{2}}\" title=\"b\\hat{1} = \\frac{\\sum{i=1}^{n} (x_i - x\\hat{}) (y_i - \\hat{y})}{\\sum_{i=1}^{n}(x_i - x\\bar{})^{2}}\" />\n",
        "\n",
        "Setelah mendapatkan keduanya, kita dapat mulai melakukan implementasi pada python. "
      ]
    },
    {
      "cell_type": "markdown",
      "metadata": {
        "id": "YtUjLOIM_3Py"
      },
      "source": [
        "## **Contoh Perhitungan Manual Regresi Linear dengan OLS**\n",
        "\n",
        " Diketahui data X dan Y adalah sebagai berikut(Y=2X-1): \n",
        "\n",
        "\n",
        "#  \\begin{matrix}\n",
        "  X & Y \\\\\n",
        "  1 & 1 \\\\\n",
        "3 & 5 \\\\\n",
        "5 & 9\\\\\n",
        "6 & 11\\\\\n",
        "7 & 13 \\\\\n",
        "8 & 15\\\\\n",
        "\\end{matrix} \n",
        "\n",
        "Berikut adalah proses menghitung model Regresi Linear dari data di atas:\n",
        "** 1. Menghitung rata-rata X dan Y **\n",
        "\n",
        "<img src=\"https://latex.codecogs.com/gif.latex?\\dpi{100}&space;n=&space;6\" title=\"n= 6\" />\n",
        "\n",
        "#<img src=\"https://latex.codecogs.com/gif.latex?\\dpi{100}&space;\\bar{x}=&space;\\frac&space;{1&plus;3&plus;5&plus;7&plus;8}{6}&space;=&space;\\frac&space;{30}{6}&space;=&space;5\" title=\"\\bar{x}= \\frac {1+3+5+7+8}{6} = \\frac {30}{6} = 5\" />\n",
        "#<img src=\"https://latex.codecogs.com/gif.latex?\\dpi{100}&space;\\bar{x}=&space;\\frac&space;{1&plus;5&plus;9&plus;11&plus;13&plus;15}{6}&space;=&space;\\frac&space;{54}{6}&space;=&space;9\" title=\"\\bar{x}= \\frac {1+5+9+11+13+15}{6} = \\frac {54}{6} = 9\" />\n",
        "\n",
        "** 2. Menghitung** <img src=\"https://latex.codecogs.com/gif.latex?\\dpi{100}&space;b_i\" title=\"b_i\" />\n",
        "\n",
        "#<img src=\"https://latex.codecogs.com/gif.latex?\\dpi{100}&space;\\hat{b_i}=&space;\\frac&space;{\\sum&space;\\limits_{i=1}^{n}&space;({x_i-&space;\\bar{x}})({y_i-&space;\\bar{y}})}{\\sum&space;\\limits_{i=1}^{n}&space;({x_i-&space;\\bar{x}})^2}\" title=\"\\hat{b_i}= \\frac {\\sum \\limits_{i=1}^{n} ({x_i- \\bar{x}})({y_i- \\bar{y}})}{\\sum \\limits_{i=1}^{n} ({x_i- \\bar{x}})^2}\" />\n",
        "# <img src=\"https://latex.codecogs.com/gif.latex?\\dpi{100}&space;\\hat{b_i}&space;=\\frac&space;{([1-5][1-9][3-5][5-9]&plus;[5-5][9-9]&plus;[6-5][11-9]&plus;[7-5][13-9]&plus;[8-5]^2)}{((-4)^2)&plus;(-2)^2&space;&plus;0^2&space;&plus;&space;1^2&space;&plus;&space;2^2&space;&plus;&space;3^2)}\" title=\"\\hat{b_i} =\\frac {([1-5][1-9][3-5][5-9]+[5-5][9-9]+[6-5][11-9]+[7-5][13-9]+[8-5]^2)}{((-4)^2)+(-2)^2 +0^2 + 1^2 + 2^2 + 3^2)}\" />\n",
        "# <img src=\"https://latex.codecogs.com/gif.latex?\\dpi{100}&space;\\hat{b_i}&space;=\\frac&space;{32&plus;8&plus;0&plus;2&plus;8&plus;18}{14&plus;4&plus;0&plus;1&plus;4&plus;9}\" title=\"\\hat{b_i} =\\frac {32+8+0+2+8+18}{14+4+0+1+4+9}\" />\n",
        "# <img src=\"https://latex.codecogs.com/gif.latex?\\dpi{100}&space;\\hat{b_i}&space;=\\frac&space;{68}{34}&space;=2\" title=\"\\hat{b_i} =\\frac {68}{34} =2\" />\n",
        "\n",
        "** 3. Menghitung** <img src=\"https://latex.codecogs.com/gif.latex?\\dpi{100}&space;b_0\" title=\"b_0\" />\n",
        "\n",
        "<img src=\"https://latex.codecogs.com/gif.latex?\\dpi{100}&space;\\hat{b_0}&space;=&space;\\bar{y}-&space;\\hat{b_1}\\bar{x}\" title=\"\\hat{b_0} = \\bar{y}- \\hat{b_1}\\bar{x}\" />\n",
        "\n",
        "# <img src=\"https://latex.codecogs.com/gif.latex?\\dpi{100}&space;\\hat{b_0}&space;=&space;9-(2)\\times&space;5\" title=\"\\hat{b_0} = 9-(2)\\times 5\" />\n",
        "# <img src=\"https://latex.codecogs.com/gif.latex?\\dpi{100}&space;\\hat{b_0}&space;=&space;-1\" title=\"\\hat{b_0} = -1\" />\n",
        "\n",
        "** 4. Menyusun Persamaan Regresi Linear**\n",
        "# <img src=\"https://latex.codecogs.com/gif.latex?\\dpi{100}&space;Y&space;=&space;\\hat{b_0}&space;&plus;&space;\\hat&space;{b_1&space;X}\" title=\"Y = \\hat{b_0} + \\hat {b_1 X}\" />\n",
        "#<img src=\"https://latex.codecogs.com/gif.latex?\\dpi{100}&space;Y&space;=&space;-1&space;&plus;2X\" title=\"Y = -1 +2X\" />\n",
        "\n",
        "\n"
      ]
    },
    {
      "cell_type": "markdown",
      "metadata": {
        "id": "-e--QOGSSOG4"
      },
      "source": [
        "## **Regresi Linear Python From Scratch**\n",
        "### **Membangun Model Regresi Linear**\n",
        "Pertama, import library python yang dibutuhkan yaitu:\n",
        "* Numpy\n",
        "* Pandas\n",
        "* Matplotlib"
      ]
    },
    {
      "cell_type": "code",
      "metadata": {
        "id": "W3NH3u-XJwZf"
      },
      "source": [
        "import numpy as np\n",
        "import pandas as pd\n",
        "import matplotlib.pyplot as plt\n",
        "from sklearn.model_selection import train_test_split\n",
        "%matplotlib inline"
      ],
      "execution_count": null,
      "outputs": []
    },
    {
      "cell_type": "markdown",
      "metadata": {
        "id": "4WgIgHg0TBGZ"
      },
      "source": [
        "Untuk memahami konsep, kita akan menggunakan data X dan Y seperti yang kita tunjukkan pada proses\n",
        "penghitungan manual."
      ]
    },
    {
      "cell_type": "code",
      "metadata": {
        "id": "Q5nYKtw3Hq9j"
      },
      "source": [
        "X_train=np.array([1, 3, 5, 6, 7, 8])\n",
        "y_train=np.array([1, 5, 9, 11, 13, 15])"
      ],
      "execution_count": null,
      "outputs": []
    },
    {
      "cell_type": "code",
      "metadata": {
        "colab": {
          "base_uri": "https://localhost:8080/"
        },
        "id": "Hqa9oRc-S_fK",
        "outputId": "1c6c3b9f-9d04-4347-d43e-54342911d290"
      },
      "source": [
        "# Proses Training Model\n",
        "\n",
        "# Menghitung rata-rata inputs and outputs\n",
        "x_rata2 = np.mean(X_train)\n",
        "print(\"Rata-rata X:\", x_rata2)\n",
        "y_rata2 = np.mean(y_train)\n",
        "print(\"Rata-rata Y:\", y_rata2)\n",
        "\n",
        "# Jumlah data\n",
        "n = len(X_train)\n",
        "print(\"Jumlah data(n):\", y_rata2)\n",
        "\n",
        "# Menuliskan formula untuk menghitung beta 0 dan beta 1\n",
        "A = 0\n",
        "B = 0\n",
        "for i in range(n):\n",
        "  a = (X_train[i] - x_rata2) * (y_train[i] - y_rata2)\n",
        "  print(\"(\",X_train[i], \"-\", x_rata2, \")\", \"*\", \"(\", y_train[i], \"-\", y_rata2, \") =\", a )\n",
        "  A += a\n",
        "  b = (X_train[i] - x_rata2) ** 2\n",
        "  print(\"(\", X_train[i], \"-\", x_rata2, \")\", \"^2\", \" =\", b )\n",
        "  B += b\n",
        "  \n",
        "print(\"Pembilang =\", A)\n",
        "print(\"Penyebut =\", B)\n",
        "\n",
        "# Menampilkan Koefisien Regresi Linear\n",
        "b_1 = A / B\n",
        "print(\"b_1 =\", b_1)\n",
        "b_0 = y_rata2 - (b_1 * x_rata2)\n",
        "print(\"b_0 =\", b_0)"
      ],
      "execution_count": null,
      "outputs": [
        {
          "output_type": "stream",
          "name": "stdout",
          "text": [
            "Rata-rata X: 5.0\n",
            "Rata-rata Y: 9.0\n",
            "Jumlah data(n): 9.0\n",
            "( 1 - 5.0 ) * ( 1 - 9.0 ) = 32.0\n",
            "( 1 - 5.0 ) ^2  = 16.0\n",
            "( 3 - 5.0 ) * ( 5 - 9.0 ) = 8.0\n",
            "( 3 - 5.0 ) ^2  = 4.0\n",
            "( 5 - 5.0 ) * ( 9 - 9.0 ) = 0.0\n",
            "( 5 - 5.0 ) ^2  = 0.0\n",
            "( 6 - 5.0 ) * ( 11 - 9.0 ) = 2.0\n",
            "( 6 - 5.0 ) ^2  = 1.0\n",
            "( 7 - 5.0 ) * ( 13 - 9.0 ) = 8.0\n",
            "( 7 - 5.0 ) ^2  = 4.0\n",
            "( 8 - 5.0 ) * ( 15 - 9.0 ) = 18.0\n",
            "( 8 - 5.0 ) ^2  = 9.0\n",
            "Pembilang = 68.0\n",
            "Penyebut = 34.0\n",
            "b_1 = 2.0\n",
            "b_0 = -1.0\n"
          ]
        }
      ]
    },
    {
      "cell_type": "code",
      "metadata": {
        "colab": {
          "base_uri": "https://localhost:8080/",
          "height": 279
        },
        "id": "4CYTaTS-TbTP",
        "outputId": "7327ca9b-9234-4834-dd0b-359324b78ed2"
      },
      "source": [
        "# Plot Nilai Data\n",
        "x_max = np.max(X_train)\n",
        "x_min = np.min(X_train)\n",
        "\n",
        "# Garis Regresi\n",
        "x = np.linspace(x_min, x_max, 1000)\n",
        "y = b_0 + b_1 * x\n",
        "\n",
        "# Plott Garis Regresi\n",
        "plt.plot(x, y, color='red', label='Regresi Linear')\n",
        "\n",
        "# Plot Titik Data\n",
        "plt.scatter(X_train, y_train, color='blue', label='Data')\n",
        "\n",
        "# Label sumbu\n",
        "plt.xlabel('X')\n",
        "\n",
        "# Label sumbu y\n",
        "plt.ylabel('Y')\n",
        "\n",
        "# Menampilkan Legenda\n",
        "plt.legend()\n",
        "\n",
        "# Menampilkan Gambar Hasil Plot\n",
        "plt.show()"
      ],
      "execution_count": null,
      "outputs": [
        {
          "output_type": "display_data",
          "data": {
            "image/png": "[encoded data removed]",
            "text/plain": [
              "<Figure size 432x288 with 1 Axes>"
            ]
          },
          "metadata": {
            "needs_background": "light"
          }
        }
      ]
    },
    {
      "cell_type": "markdown",
      "metadata": {
        "id": "xGPfRacyTsV2"
      },
      "source": [
        "##Implementasi Model Regresi Linear Pada Data Real\n",
        "Kita akan menggunakan dataset yang berisi ukuran kepala dan berat organ otak."
      ]
    },
    {
      "cell_type": "code",
      "metadata": {
        "id": "gggqfUB5zHBu"
      },
      "source": [
        "import numpy as np\n",
        "import pandas as pd\n",
        "import matplotlib.pyplot as plt\n",
        "from sklearn.model_selection import train_test_split\n",
        "%matplotlib inline"
      ],
      "execution_count": null,
      "outputs": []
    },
    {
      "cell_type": "code",
      "metadata": {
        "colab": {
          "base_uri": "https://localhost:8080/",
          "height": 224
        },
        "id": "SlxF6FAETm_X",
        "outputId": "ee49d751-1061-4911-f996-3d3e3d8777d9"
      },
      "source": [
        "dataset = pd.read_csv('https://raw.githubusercontent.com/irmabintisyaidah/Basic-Python-Programming-for-Data-Science/main/possum.csv')\n",
        "# Melihat ukuran dataset\n",
        "print(dataset.shape)\n",
        "# Menampilkan 5 data teratas\n",
        "dataset.head()"
      ],
      "execution_count": null,
      "outputs": [
        {
          "output_type": "stream",
          "name": "stdout",
          "text": [
            "(104, 8)\n"
          ]
        },
        {
          "output_type": "execute_result",
          "data": {
            "text/html": [
              "<div>\n",
              "<style scoped>\n",
              "    .dataframe tbody tr th:only-of-type {\n",
              "        vertical-align: middle;\n",
              "    }\n",
              "\n",
              "    .dataframe tbody tr th {\n",
              "        vertical-align: top;\n",
              "    }\n",
              "\n",
              "    .dataframe thead th {\n",
              "        text-align: right;\n",
              "    }\n",
              "</style>\n",
              "<table border=\"1\" class=\"dataframe\">\n",
              "  <thead>\n",
              "    <tr style=\"text-align: right;\">\n",
              "      <th></th>\n",
              "      <th>site</th>\n",
              "      <th>pop</th>\n",
              "      <th>sex</th>\n",
              "      <th>age</th>\n",
              "      <th>head_l</th>\n",
              "      <th>skull_w</th>\n",
              "      <th>total_l</th>\n",
              "      <th>tail_l</th>\n",
              "    </tr>\n",
              "  </thead>\n",
              "  <tbody>\n",
              "    <tr>\n",
              "      <th>0</th>\n",
              "      <td>1</td>\n",
              "      <td>Vic</td>\n",
              "      <td>m</td>\n",
              "      <td>8.0</td>\n",
              "      <td>94.1</td>\n",
              "      <td>60.4</td>\n",
              "      <td>89.0</td>\n",
              "      <td>36.0</td>\n",
              "    </tr>\n",
              "    <tr>\n",
              "      <th>1</th>\n",
              "      <td>1</td>\n",
              "      <td>Vic</td>\n",
              "      <td>f</td>\n",
              "      <td>6.0</td>\n",
              "      <td>92.5</td>\n",
              "      <td>57.6</td>\n",
              "      <td>91.5</td>\n",
              "      <td>36.5</td>\n",
              "    </tr>\n",
              "    <tr>\n",
              "      <th>2</th>\n",
              "      <td>1</td>\n",
              "      <td>Vic</td>\n",
              "      <td>f</td>\n",
              "      <td>6.0</td>\n",
              "      <td>94.0</td>\n",
              "      <td>60.0</td>\n",
              "      <td>95.5</td>\n",
              "      <td>39.0</td>\n",
              "    </tr>\n",
              "    <tr>\n",
              "      <th>3</th>\n",
              "      <td>1</td>\n",
              "      <td>Vic</td>\n",
              "      <td>f</td>\n",
              "      <td>6.0</td>\n",
              "      <td>93.2</td>\n",
              "      <td>57.1</td>\n",
              "      <td>92.0</td>\n",
              "      <td>38.0</td>\n",
              "    </tr>\n",
              "    <tr>\n",
              "      <th>4</th>\n",
              "      <td>1</td>\n",
              "      <td>Vic</td>\n",
              "      <td>f</td>\n",
              "      <td>2.0</td>\n",
              "      <td>91.5</td>\n",
              "      <td>56.3</td>\n",
              "      <td>85.5</td>\n",
              "      <td>36.0</td>\n",
              "    </tr>\n",
              "  </tbody>\n",
              "</table>\n",
              "</div>"
            ],
            "text/plain": [
              "   site  pop sex  age  head_l  skull_w  total_l  tail_l\n",
              "0     1  Vic   m  8.0    94.1     60.4     89.0    36.0\n",
              "1     1  Vic   f  6.0    92.5     57.6     91.5    36.5\n",
              "2     1  Vic   f  6.0    94.0     60.0     95.5    39.0\n",
              "3     1  Vic   f  6.0    93.2     57.1     92.0    38.0\n",
              "4     1  Vic   f  2.0    91.5     56.3     85.5    36.0"
            ]
          },
          "metadata": {},
          "execution_count": 19
        }
      ]
    },
    {
      "cell_type": "code",
      "metadata": {
        "id": "ajygmorTT16J"
      },
      "source": [
        "#Mencari hubungan antara data X(head_l) dan Y(skull_w)\n",
        "\n",
        "# Definisikan Variabel Input(X) dan Output(Y)\n",
        "X = dataset['head_l'].values.reshape(-1,1)\n",
        "Y = dataset['skull_w'].values.reshape(-1,1)"
      ],
      "execution_count": null,
      "outputs": []
    },
    {
      "cell_type": "code",
      "metadata": {
        "id": "061UYBBQUVWt"
      },
      "source": [
        "# Membagi data menjadi data training dan data testing\n",
        "X_train, X_test, y_train, y_test = train_test_split(X, Y, test_size=0.2, random_state=0)"
      ],
      "execution_count": null,
      "outputs": []
    },
    {
      "cell_type": "code",
      "metadata": {
        "colab": {
          "base_uri": "https://localhost:8080/"
        },
        "id": "PLsnSgF0UwgT",
        "outputId": "2bf43518-fee6-47ab-f5f7-38c5c0947667"
      },
      "source": [
        "# Proses Training Model\n",
        "\n",
        "# Menghitung rata-rata inputs and outputs\n",
        "x_rata2 = np.mean(X_train)\n",
        "y_rata2 = np.mean(y_train)\n",
        "\n",
        "# Jumlah data\n",
        "n = len(X_train)\n",
        "\n",
        "# Menuliskan formula untuk menghitung beta 0 dan beta 1\n",
        "A = 0\n",
        "B = 0\n",
        "for i in range(n):\n",
        "  A += (X_train[i] - x_rata2) * (y_train[i] - y_rata2)\n",
        "  B += (X_train[i] - x_rata2) ** 2\n",
        "\n",
        "b_1 = A / B\n",
        "b_0 = y_rata2 - (b_1 * x_rata2)\n",
        "\n",
        "# Menampilkan Koefisien Regresi Linear\n",
        "print(b_0, b_1)"
      ],
      "execution_count": null,
      "outputs": [
        {
          "output_type": "stream",
          "name": "stdout",
          "text": [
            "[2.59859767] [0.58575861]\n"
          ]
        }
      ]
    },
    {
      "cell_type": "markdown",
      "metadata": {
        "id": "Ivk47PKRU9lU"
      },
      "source": [
        "Dalam notasi matematika, hasil ini dapat ditulis sebagai berikut:\n",
        "\n",
        "> skull_w = 2.59859767 + 0.58575861 * head_l\n",
        "\n",
        "Sekarang kita memiliki model linier. Mari kita plot secara grafis."
      ]
    },
    {
      "cell_type": "code",
      "metadata": {
        "colab": {
          "base_uri": "https://localhost:8080/",
          "height": 280
        },
        "id": "ptPgiwn_U7FE",
        "outputId": "0dc1702c-f8eb-409c-80fd-793210f1aa52"
      },
      "source": [
        "# Plot Nilai Data\n",
        "x_max = np.max(X) + 100\n",
        "x_min = np.min(X) - 100\n",
        "\n",
        "# Garis Regresi\n",
        "x = np.linspace(x_min, x_max, 1000)\n",
        "y = b_0 + b_1 * x\n",
        "\n",
        "# Plott Garis Regresi\n",
        "plt.plot(x, y, color='red', label='Regresi Linear')\n",
        "\n",
        "# Plot Titik Data\n",
        "plt.scatter(X, Y, color='blue', label='Data')\n",
        "\n",
        "# Label sumbu\n",
        "plt.xlabel('head_l)')\n",
        "\n",
        "# Label sumbu y\n",
        "plt.ylabel('skull_w')\n",
        "\n",
        "# Menampilkan Legenda\n",
        "plt.legend()\n",
        "\n",
        "# Menampilkan Gambar Hasil Plot\n",
        "plt.show()"
      ],
      "execution_count": null,
      "outputs": [
        {
          "output_type": "display_data",
          "data": {
            "image/png": "[encoded data removed]",
            "text/plain": [
              "<Figure size 432x288 with 1 Axes>"
            ]
          },
          "metadata": {
            "needs_background": "light"
          }
        }
      ]
    },
    {
      "cell_type": "markdown",
      "metadata": {
        "id": "Otgs3hkNXS1p"
      },
      "source": [
        "## **Evaluasi Model**\n",
        "Kita perlu mengukur tingkat ketepatan(akurasi) model yang telah diperoleh. Terdapat banyak metode untuk\n",
        "melakukan hal ini, namun pada artikel ini kita memilih menggunakan Root Mean Square Error dan Koefisien\n",
        "Determinasi (R Skor)\n",
        "\n",
        "$ RMSE=\\sqrt{\\frac{1}{n}\\sum_{i=1}^{n}(y_{i}-\\hat{y_{i}}^2)} $\n",
        "\n",
        "$\\hat{y_{i}}$ adalah nilai hasil prediksi ke-i. Berikut adalah penulisan kode untuk RMSE"
      ]
    },
    {
      "cell_type": "code",
      "metadata": {
        "colab": {
          "base_uri": "https://localhost:8080/"
        },
        "id": "JLK02GH5VJVH",
        "outputId": "c5088413-4cbf-43b0-ac57-7e93db78105a"
      },
      "source": [
        "rmse = 0\n",
        "for i in range(len(X_test)):\n",
        "  y_pred= b_0 + b_1* X_test[i]\n",
        "  rmse += (y_test[i] - y_pred) ** 2\n",
        "  \n",
        "rmse = np.sqrt(rmse/n)\n",
        "print(rmse)"
      ],
      "execution_count": null,
      "outputs": [
        {
          "output_type": "stream",
          "name": "stdout",
          "text": [
            "[1.25677748]\n"
          ]
        }
      ]
    },
    {
      "cell_type": "markdown",
      "metadata": {
        "id": "yx8dctihZTZn"
      },
      "source": [
        "Selanjutnya, mari kita hitung nilai skor untuk mengukur tingkat akurasi dari model linear yang diperoleh,\n",
        "secara matematis dituliskan sebagai berikut:\n",
        "\n",
        "$R^2=1-\\frac{SSE}{SST}=1-\\frac{\\sum{(\\hat{y_{i}}-\\bar{y})^2}}{(y_{i}-\\bar{y})^2}$\n",
        "\n",
        "SSE adalah jumlah kuadrat galat sedangkan SST jumlah kuadrat total.\n",
        "\n",
        "$R^2$ skor biasanya memiliki nilai antara 0 hingga 1. Nilai ini juga bisa bernilai negatif jika model regresi benar-\n",
        "benar salah. Di bawah ini adalah kode pemrograman untuk menghitung $R^2$ skor"
      ]
    },
    {
      "cell_type": "code",
      "metadata": {
        "colab": {
          "base_uri": "https://localhost:8080/"
        },
        "id": "9z-T6SnjWRlX",
        "outputId": "53ab88a8-e815-436d-e994-1e4a90fcd83c"
      },
      "source": [
        "SST = 0\n",
        "SSE = 0\n",
        "y_pred= b_0 + b_1*X_test\n",
        "y_rata2 = np.mean(y_test)\n",
        "for i in range(len(X_test)) :\n",
        "  SST += (y_test[i] - y_rata2) ** 2\n",
        "  SSE += (y_test[i] - y_pred[i]) **2\n",
        "  \n",
        "score = 1- (SSE/SST)\n",
        "print(\"Koefisien Determinasi:\", score)"
      ],
      "execution_count": null,
      "outputs": [
        {
          "output_type": "stream",
          "name": "stdout",
          "text": [
            "Koefisien Determinasi: [0.45387687]\n"
          ]
        }
      ]
    }
  ]
}